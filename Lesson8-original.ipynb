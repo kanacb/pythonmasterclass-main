{
  "nbformat": 4,
  "nbformat_minor": 0,
  "metadata": {
    "colab": {
      "name": "Copy of Lesson8 Old.ipynb",
      "provenance": [],
      "collapsed_sections": [],
      "authorship_tag": "ABX9TyOLRxlZCPAWlVh9lYLBSqSf",
      "include_colab_link": true
    },
    "kernelspec": {
      "name": "python3",
      "display_name": "Python 3"
    },
    "language_info": {
      "name": "python"
    }
  },
  "cells": [
    {
      "cell_type": "markdown",
      "metadata": {
        "id": "view-in-github",
        "colab_type": "text"
      },
      "source": [
        "<a href=\"https://colab.research.google.com/github/kanacb/pythonmasterclass/blob/main/Lesson8-original.ipynb\" target=\"_parent\"><img src=\"https://colab.research.google.com/assets/colab-badge.svg\" alt=\"Open In Colab\"/></a>"
      ]
    },
    {
      "cell_type": "markdown",
      "metadata": {
        "id": "-ZuPld5UIyh0"
      },
      "source": [
        "# Lesson 8\n",
        "Python Statistics & Probability Theory\n",
        "\n",
        "*   Discrete \n",
        "*   Continuos\n",
        "<br>\n",
        "<br>\n",
        "[link text](https://en.wikipedia.org/wiki/List_of_probability_distributions)"
      ]
    },
    {
      "cell_type": "code",
      "metadata": {
        "id": "hR-JRro4IcSG"
      },
      "source": [
        "from sklearn.linear_model import LinearRegression\n",
        "import pandas as pd"
      ],
      "execution_count": null,
      "outputs": []
    },
    {
      "cell_type": "code",
      "metadata": {
        "colab": {
          "base_uri": "https://localhost:8080/",
          "height": 532
        },
        "id": "fkdkmYYkJZ4s",
        "outputId": "aa87ed9f-355d-4a41-dac2-9000628f5b8a"
      },
      "source": [
        "file = 'https://github.com/kanacb/pythonmasterclass/blob/main/iPhone%20Prices.csv?raw=true'\n",
        "df = pd.read_csv(file)\n",
        "df"
      ],
      "execution_count": null,
      "outputs": [
        {
          "output_type": "execute_result",
          "data": {
            "text/html": [
              "<div>\n",
              "<style scoped>\n",
              "    .dataframe tbody tr th:only-of-type {\n",
              "        vertical-align: middle;\n",
              "    }\n",
              "\n",
              "    .dataframe tbody tr th {\n",
              "        vertical-align: top;\n",
              "    }\n",
              "\n",
              "    .dataframe thead th {\n",
              "        text-align: right;\n",
              "    }\n",
              "</style>\n",
              "<table border=\"1\" class=\"dataframe\">\n",
              "  <thead>\n",
              "    <tr style=\"text-align: right;\">\n",
              "      <th></th>\n",
              "      <th>Number</th>\n",
              "      <th>Name Phone</th>\n",
              "      <th>Price</th>\n",
              "    </tr>\n",
              "  </thead>\n",
              "  <tbody>\n",
              "    <tr>\n",
              "      <th>0</th>\n",
              "      <td>1</td>\n",
              "      <td>iPhone (4GB):</td>\n",
              "      <td>499.0</td>\n",
              "    </tr>\n",
              "    <tr>\n",
              "      <th>1</th>\n",
              "      <td>2</td>\n",
              "      <td>iPhone 3G (8GB):</td>\n",
              "      <td>599.0</td>\n",
              "    </tr>\n",
              "    <tr>\n",
              "      <th>2</th>\n",
              "      <td>3</td>\n",
              "      <td>iPhone 3GS (16GB):</td>\n",
              "      <td>599.0</td>\n",
              "    </tr>\n",
              "    <tr>\n",
              "      <th>3</th>\n",
              "      <td>4</td>\n",
              "      <td>iPhone 4 (16GB):</td>\n",
              "      <td>599.0</td>\n",
              "    </tr>\n",
              "    <tr>\n",
              "      <th>4</th>\n",
              "      <td>5</td>\n",
              "      <td>iPhone 4S (16GB):</td>\n",
              "      <td>649.0</td>\n",
              "    </tr>\n",
              "    <tr>\n",
              "      <th>5</th>\n",
              "      <td>6</td>\n",
              "      <td>iPhone 5 (16GB):</td>\n",
              "      <td>649.0</td>\n",
              "    </tr>\n",
              "    <tr>\n",
              "      <th>6</th>\n",
              "      <td>7</td>\n",
              "      <td>iPhone 5s (16GB):</td>\n",
              "      <td>649.0</td>\n",
              "    </tr>\n",
              "    <tr>\n",
              "      <th>7</th>\n",
              "      <td>8</td>\n",
              "      <td>iPhone 6 (16GB):</td>\n",
              "      <td>649.0</td>\n",
              "    </tr>\n",
              "    <tr>\n",
              "      <th>8</th>\n",
              "      <td>9</td>\n",
              "      <td>iPhone 6 Plus (16GB):</td>\n",
              "      <td>749.0</td>\n",
              "    </tr>\n",
              "    <tr>\n",
              "      <th>9</th>\n",
              "      <td>10</td>\n",
              "      <td>iPhone 6s (16GB):</td>\n",
              "      <td>649.0</td>\n",
              "    </tr>\n",
              "    <tr>\n",
              "      <th>10</th>\n",
              "      <td>11</td>\n",
              "      <td>iPhone 6s Plus (16GB):</td>\n",
              "      <td>749.0</td>\n",
              "    </tr>\n",
              "    <tr>\n",
              "      <th>11</th>\n",
              "      <td>12</td>\n",
              "      <td>iPhone 7 (32GB):</td>\n",
              "      <td>649.0</td>\n",
              "    </tr>\n",
              "    <tr>\n",
              "      <th>12</th>\n",
              "      <td>13</td>\n",
              "      <td>iPhone 7 Plus (32GB):</td>\n",
              "      <td>769.0</td>\n",
              "    </tr>\n",
              "    <tr>\n",
              "      <th>13</th>\n",
              "      <td>14</td>\n",
              "      <td>iPhone 8 (64GB):</td>\n",
              "      <td>699.0</td>\n",
              "    </tr>\n",
              "    <tr>\n",
              "      <th>14</th>\n",
              "      <td>15</td>\n",
              "      <td>iPhone 8 Plus (64GB):</td>\n",
              "      <td>799.0</td>\n",
              "    </tr>\n",
              "    <tr>\n",
              "      <th>15</th>\n",
              "      <td>16</td>\n",
              "      <td>iPhone X (64GB):</td>\n",
              "      <td>999.0</td>\n",
              "    </tr>\n",
              "  </tbody>\n",
              "</table>\n",
              "</div>"
            ],
            "text/plain": [
              "    Number               Name Phone  Price\n",
              "0        1           iPhone (4GB):   499.0\n",
              "1        2        iPhone 3G (8GB):   599.0\n",
              "2        3      iPhone 3GS (16GB):   599.0\n",
              "3        4        iPhone 4 (16GB):   599.0\n",
              "4        5        iPhone 4S (16GB):  649.0\n",
              "5        6        iPhone 5 (16GB):   649.0\n",
              "6        7       iPhone 5s (16GB):   649.0\n",
              "7        8        iPhone 6 (16GB):   649.0\n",
              "8        9   iPhone 6 Plus (16GB):   749.0\n",
              "9       10       iPhone 6s (16GB):   649.0\n",
              "10      11  iPhone 6s Plus (16GB):   749.0\n",
              "11      12        iPhone 7 (32GB):   649.0\n",
              "12      13   iPhone 7 Plus (32GB):   769.0\n",
              "13      14        iPhone 8 (64GB):   699.0\n",
              "14      15   iPhone 8 Plus (64GB):   799.0\n",
              "15      16        iPhone X (64GB):   999.0"
            ]
          },
          "metadata": {},
          "execution_count": 5
        }
      ]
    },
    {
      "cell_type": "code",
      "metadata": {
        "id": "fR1YSV8ZKXHM"
      },
      "source": [
        "model = LinearRegression()"
      ],
      "execution_count": null,
      "outputs": []
    },
    {
      "cell_type": "code",
      "metadata": {
        "colab": {
          "base_uri": "https://localhost:8080/"
        },
        "id": "VwG6PzBdKt5O",
        "outputId": "8e92cfc8-56b5-4c68-f737-241225dd03ae"
      },
      "source": [
        "model.fit(df[['Number']], df[['Price']],)"
      ],
      "execution_count": null,
      "outputs": [
        {
          "output_type": "execute_result",
          "data": {
            "text/plain": [
              "LinearRegression(copy_X=True, fit_intercept=True, n_jobs=None, normalize=False)"
            ]
          },
          "metadata": {},
          "execution_count": 6
        }
      ]
    },
    {
      "cell_type": "code",
      "metadata": {
        "colab": {
          "base_uri": "https://localhost:8080/"
        },
        "id": "1RTdI6QBLT2k",
        "outputId": "f6f7535c-5f63-41a7-bbbc-84995bb94146"
      },
      "source": [
        "print(\"Predict for 17th  = USD$\",model.predict([[17]])[0][0])"
      ],
      "execution_count": null,
      "outputs": [
        {
          "output_type": "stream",
          "name": "stdout",
          "text": [
            "Predict for 17th  = USD$ 851.2499999999999\n"
          ]
        }
      ]
    },
    {
      "cell_type": "code",
      "metadata": {
        "colab": {
          "base_uri": "https://localhost:8080/",
          "height": 265
        },
        "id": "oYvntJqoLhe7",
        "outputId": "84f98f20-ace1-4020-83ba-508b6fbbb9fc"
      },
      "source": [
        "import matplotlib.pyplot as plt\n",
        "plt.scatter(df['Number'], df['Price'])\n",
        "plt.show()"
      ],
      "execution_count": null,
      "outputs": [
        {
          "output_type": "display_data",
          "data": {
            "image/png": "[encoded data removed]",
            "text/plain": [
              "<Figure size 432x288 with 1 Axes>"
            ]
          },
          "metadata": {
            "needs_background": "light"
          }
        }
      ]
    },
    {
      "cell_type": "code",
      "metadata": {
        "colab": {
          "base_uri": "https://localhost:8080/"
        },
        "id": "Ym2EB9DqNFal",
        "outputId": "3746953c-e382-4a0a-b6d1-de620a5fbb30"
      },
      "source": [
        "df['Price']"
      ],
      "execution_count": null,
      "outputs": [
        {
          "output_type": "execute_result",
          "data": {
            "text/plain": [
              "0     499.0\n",
              "1     599.0\n",
              "2     599.0\n",
              "3     599.0\n",
              "4     649.0\n",
              "5     649.0\n",
              "6     649.0\n",
              "7     649.0\n",
              "8     749.0\n",
              "9     649.0\n",
              "10    749.0\n",
              "11    649.0\n",
              "12    769.0\n",
              "13    699.0\n",
              "14    799.0\n",
              "15    999.0\n",
              "Name: Price, dtype: float64"
            ]
          },
          "metadata": {},
          "execution_count": 19
        }
      ]
    },
    {
      "cell_type": "code",
      "metadata": {
        "colab": {
          "base_uri": "https://localhost:8080/",
          "height": 550
        },
        "id": "PjeE9vL6OIqM",
        "outputId": "cc4b4653-f3f1-432e-884f-dc975d6c080b"
      },
      "source": [
        "df[\"currency\"] = df['Price']*4.2\n",
        "df"
      ],
      "execution_count": null,
      "outputs": [
        {
          "output_type": "execute_result",
          "data": {
            "text/html": [
              "<div>\n",
              "<style scoped>\n",
              "    .dataframe tbody tr th:only-of-type {\n",
              "        vertical-align: middle;\n",
              "    }\n",
              "\n",
              "    .dataframe tbody tr th {\n",
              "        vertical-align: top;\n",
              "    }\n",
              "\n",
              "    .dataframe thead th {\n",
              "        text-align: right;\n",
              "    }\n",
              "</style>\n",
              "<table border=\"1\" class=\"dataframe\">\n",
              "  <thead>\n",
              "    <tr style=\"text-align: right;\">\n",
              "      <th></th>\n",
              "      <th>Number</th>\n",
              "      <th>Name Phone</th>\n",
              "      <th>Price</th>\n",
              "      <th>currency</th>\n",
              "    </tr>\n",
              "  </thead>\n",
              "  <tbody>\n",
              "    <tr>\n",
              "      <th>0</th>\n",
              "      <td>1</td>\n",
              "      <td>iPhone (4GB):</td>\n",
              "      <td>499.0</td>\n",
              "      <td>2095.8</td>\n",
              "    </tr>\n",
              "    <tr>\n",
              "      <th>1</th>\n",
              "      <td>2</td>\n",
              "      <td>iPhone 3G (8GB):</td>\n",
              "      <td>599.0</td>\n",
              "      <td>2515.8</td>\n",
              "    </tr>\n",
              "    <tr>\n",
              "      <th>2</th>\n",
              "      <td>3</td>\n",
              "      <td>iPhone 3GS (16GB):</td>\n",
              "      <td>599.0</td>\n",
              "      <td>2515.8</td>\n",
              "    </tr>\n",
              "    <tr>\n",
              "      <th>3</th>\n",
              "      <td>4</td>\n",
              "      <td>iPhone 4 (16GB):</td>\n",
              "      <td>599.0</td>\n",
              "      <td>2515.8</td>\n",
              "    </tr>\n",
              "    <tr>\n",
              "      <th>4</th>\n",
              "      <td>5</td>\n",
              "      <td>iPhone 4S (16GB):</td>\n",
              "      <td>649.0</td>\n",
              "      <td>2725.8</td>\n",
              "    </tr>\n",
              "    <tr>\n",
              "      <th>5</th>\n",
              "      <td>6</td>\n",
              "      <td>iPhone 5 (16GB):</td>\n",
              "      <td>649.0</td>\n",
              "      <td>2725.8</td>\n",
              "    </tr>\n",
              "    <tr>\n",
              "      <th>6</th>\n",
              "      <td>7</td>\n",
              "      <td>iPhone 5s (16GB):</td>\n",
              "      <td>649.0</td>\n",
              "      <td>2725.8</td>\n",
              "    </tr>\n",
              "    <tr>\n",
              "      <th>7</th>\n",
              "      <td>8</td>\n",
              "      <td>iPhone 6 (16GB):</td>\n",
              "      <td>649.0</td>\n",
              "      <td>2725.8</td>\n",
              "    </tr>\n",
              "    <tr>\n",
              "      <th>8</th>\n",
              "      <td>9</td>\n",
              "      <td>iPhone 6 Plus (16GB):</td>\n",
              "      <td>749.0</td>\n",
              "      <td>3145.8</td>\n",
              "    </tr>\n",
              "    <tr>\n",
              "      <th>9</th>\n",
              "      <td>10</td>\n",
              "      <td>iPhone 6s (16GB):</td>\n",
              "      <td>649.0</td>\n",
              "      <td>2725.8</td>\n",
              "    </tr>\n",
              "    <tr>\n",
              "      <th>10</th>\n",
              "      <td>11</td>\n",
              "      <td>iPhone 6s Plus (16GB):</td>\n",
              "      <td>749.0</td>\n",
              "      <td>3145.8</td>\n",
              "    </tr>\n",
              "    <tr>\n",
              "      <th>11</th>\n",
              "      <td>12</td>\n",
              "      <td>iPhone 7 (32GB):</td>\n",
              "      <td>649.0</td>\n",
              "      <td>2725.8</td>\n",
              "    </tr>\n",
              "    <tr>\n",
              "      <th>12</th>\n",
              "      <td>13</td>\n",
              "      <td>iPhone 7 Plus (32GB):</td>\n",
              "      <td>769.0</td>\n",
              "      <td>3229.8</td>\n",
              "    </tr>\n",
              "    <tr>\n",
              "      <th>13</th>\n",
              "      <td>14</td>\n",
              "      <td>iPhone 8 (64GB):</td>\n",
              "      <td>699.0</td>\n",
              "      <td>2935.8</td>\n",
              "    </tr>\n",
              "    <tr>\n",
              "      <th>14</th>\n",
              "      <td>15</td>\n",
              "      <td>iPhone 8 Plus (64GB):</td>\n",
              "      <td>799.0</td>\n",
              "      <td>3355.8</td>\n",
              "    </tr>\n",
              "    <tr>\n",
              "      <th>15</th>\n",
              "      <td>16</td>\n",
              "      <td>iPhone X (64GB):</td>\n",
              "      <td>999.0</td>\n",
              "      <td>4195.8</td>\n",
              "    </tr>\n",
              "  </tbody>\n",
              "</table>\n",
              "</div>"
            ],
            "text/plain": [
              "    Number               Name Phone  Price  currency\n",
              "0        1           iPhone (4GB):   499.0    2095.8\n",
              "1        2        iPhone 3G (8GB):   599.0    2515.8\n",
              "2        3      iPhone 3GS (16GB):   599.0    2515.8\n",
              "3        4        iPhone 4 (16GB):   599.0    2515.8\n",
              "4        5        iPhone 4S (16GB):  649.0    2725.8\n",
              "5        6        iPhone 5 (16GB):   649.0    2725.8\n",
              "6        7       iPhone 5s (16GB):   649.0    2725.8\n",
              "7        8        iPhone 6 (16GB):   649.0    2725.8\n",
              "8        9   iPhone 6 Plus (16GB):   749.0    3145.8\n",
              "9       10       iPhone 6s (16GB):   649.0    2725.8\n",
              "10      11  iPhone 6s Plus (16GB):   749.0    3145.8\n",
              "11      12        iPhone 7 (32GB):   649.0    2725.8\n",
              "12      13   iPhone 7 Plus (32GB):   769.0    3229.8\n",
              "13      14        iPhone 8 (64GB):   699.0    2935.8\n",
              "14      15   iPhone 8 Plus (64GB):   799.0    3355.8\n",
              "15      16        iPhone X (64GB):   999.0    4195.8"
            ]
          },
          "metadata": {},
          "execution_count": 9
        }
      ]
    },
    {
      "cell_type": "code",
      "metadata": {
        "colab": {
          "base_uri": "https://localhost:8080/"
        },
        "id": "Rh5IS6GOYF6U",
        "outputId": "992360fc-dbd7-439c-fc0a-389ac6c8cad5"
      },
      "source": [
        "pred = model.predict(df[['Number']])\n",
        "pred"
      ],
      "execution_count": null,
      "outputs": [
        {
          "output_type": "execute_result",
          "data": {
            "text/plain": [
              "array([[537.60294118],\n",
              "       [557.20588235],\n",
              "       [576.80882353],\n",
              "       [596.41176471],\n",
              "       [616.01470588],\n",
              "       [635.61764706],\n",
              "       [655.22058824],\n",
              "       [674.82352941],\n",
              "       [694.42647059],\n",
              "       [714.02941176],\n",
              "       [733.63235294],\n",
              "       [753.23529412],\n",
              "       [772.83823529],\n",
              "       [792.44117647],\n",
              "       [812.04411765],\n",
              "       [831.64705882]])"
            ]
          },
          "metadata": {},
          "execution_count": 10
        }
      ]
    },
    {
      "cell_type": "code",
      "metadata": {
        "colab": {
          "base_uri": "https://localhost:8080/",
          "height": 265
        },
        "id": "FcWHOcIbZBHc",
        "outputId": "e2ca202f-fa77-4cd5-8645-2e42645ec754"
      },
      "source": [
        "plt.plot(df['Number'], pred,'r--')\n",
        "plt.scatter(df['Number'], df['Price'])\n",
        "plt.show()"
      ],
      "execution_count": null,
      "outputs": [
        {
          "output_type": "display_data",
          "data": {
            "image/png": "[encoded data removed]",
            "text/plain": [
              "<Figure size 432x288 with 1 Axes>"
            ]
          },
          "metadata": {
            "needs_background": "light"
          }
        }
      ]
    },
    {
      "cell_type": "code",
      "metadata": {
        "colab": {
          "base_uri": "https://localhost:8080/"
        },
        "id": "a3VMm2jBR71S",
        "outputId": "c91eeecf-9edc-485e-85c0-6ff036b5ff1a"
      },
      "source": [
        "print(df.describe())"
      ],
      "execution_count": null,
      "outputs": [
        {
          "output_type": "stream",
          "name": "stdout",
          "text": [
            "          Number       Price     currency\n",
            "count  16.000000   16.000000    16.000000\n",
            "mean    8.500000  684.625000  2875.425000\n",
            "std     4.760952  113.017329   474.672782\n",
            "min     1.000000  499.000000  2095.800000\n",
            "25%     4.750000  636.500000  2673.300000\n",
            "50%     8.500000  649.000000  2725.800000\n",
            "75%    12.250000  749.000000  3145.800000\n",
            "max    16.000000  999.000000  4195.800000\n"
          ]
        }
      ]
    },
    {
      "cell_type": "code",
      "metadata": {
        "colab": {
          "base_uri": "https://localhost:8080/",
          "height": 516
        },
        "id": "HGJOcmE5STsS",
        "outputId": "6cfdff31-11ac-422a-e252-75103e0a5046"
      },
      "source": [
        "df['Price'].plot.density(title=\"Probability Distribution Function\",figsize=(16,8),grid=True,legend=False)"
      ],
      "execution_count": null,
      "outputs": [
        {
          "output_type": "execute_result",
          "data": {
            "text/plain": [
              "<matplotlib.axes._subplots.AxesSubplot at 0x7f31a57f4490>"
            ]
          },
          "metadata": {},
          "execution_count": 19
        },
        {
          "output_type": "display_data",
          "data": {
            "image/png": "[encoded data removed]",
            "text/plain": [
              "<Figure size 1152x576 with 1 Axes>"
            ]
          },
          "metadata": {
            "needs_background": "light"
          }
        }
      ]
    },
    {
      "cell_type": "code",
      "metadata": {
        "colab": {
          "base_uri": "https://localhost:8080/"
        },
        "id": "5Q_MjZIrTKWD",
        "outputId": "f2fd73d1-49f5-413c-ca4a-6cee96530eeb"
      },
      "source": [
        "df['Price'].median()"
      ],
      "execution_count": null,
      "outputs": [
        {
          "output_type": "execute_result",
          "data": {
            "text/plain": [
              "649.0"
            ]
          },
          "metadata": {},
          "execution_count": 20
        }
      ]
    }
  ]
}