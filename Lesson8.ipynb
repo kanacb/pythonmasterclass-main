{
  "cells": [
    {
      "cell_type": "markdown",
      "metadata": {
        "colab_type": "text",
        "id": "view-in-github"
      },
      "source": [
        "<a href=\"https://colab.research.google.com/github/kanacb/pythonmasterclass-main/blob/main/Lesson8.ipynb\" target=\"_parent\"><img src=\"https://colab.research.google.com/assets/colab-badge.svg\" alt=\"Open In Colab\"/></a>"
      ]
    },
    {
      "cell_type": "markdown",
      "metadata": {
        "id": "-ZuPld5UIyh0"
      },
      "source": [
        "# Lesson 8\n",
        "Python Statistics & Probability Theory\n",
        "\n",
        "*   Discrete \n",
        "*   Continuos\n",
        "<br>\n",
        "<br>\n",
        "[link text](https://en.wikipedia.org/wiki/List_of_probability_distributions)"
      ]
    },
    {
      "cell_type": "code",
      "execution_count": 2,
      "metadata": {},
      "outputs": [
        {
          "name": "stdout",
          "output_type": "stream",
          "text": [
            "Note: you may need to restart the kernel to use updated packages.\n"
          ]
        },
        {
          "name": "stderr",
          "output_type": "stream",
          "text": [
            "ERROR: Could not find a version that satisfies the requirement sklearn.linear_model (from versions: none)\n",
            "ERROR: No matching distribution found for sklearn.linear_model\n"
          ]
        }
      ],
      "source": [
        "pip install sklearn.linear_model"
      ]
    },
    {
      "cell_type": "code",
      "execution_count": 1,
      "metadata": {
        "id": "hR-JRro4IcSG"
      },
      "outputs": [
        {
          "ename": "ModuleNotFoundError",
          "evalue": "No module named 'sklearn'",
          "output_type": "error",
          "traceback": [
            "\u001b[1;31m---------------------------------------------------------------------------\u001b[0m",
            "\u001b[1;31mModuleNotFoundError\u001b[0m                       Traceback (most recent call last)",
            "Cell \u001b[1;32mIn[1], line 1\u001b[0m\n\u001b[1;32m----> 1\u001b[0m \u001b[38;5;28;01mfrom\u001b[39;00m \u001b[38;5;21;01msklearn\u001b[39;00m\u001b[38;5;21;01m.\u001b[39;00m\u001b[38;5;21;01mlinear_model\u001b[39;00m \u001b[38;5;28;01mimport\u001b[39;00m LinearRegression\n\u001b[0;32m      2\u001b[0m \u001b[38;5;28;01mimport\u001b[39;00m \u001b[38;5;21;01mpandas\u001b[39;00m \u001b[38;5;28;01mas\u001b[39;00m \u001b[38;5;21;01mpd\u001b[39;00m\n\u001b[0;32m      3\u001b[0m \u001b[38;5;28;01mimport\u001b[39;00m \u001b[38;5;21;01mmatplotlib\u001b[39;00m\u001b[38;5;21;01m.\u001b[39;00m\u001b[38;5;21;01mpyplot\u001b[39;00m \u001b[38;5;28;01mas\u001b[39;00m \u001b[38;5;21;01mplt\u001b[39;00m\n",
            "\u001b[1;31mModuleNotFoundError\u001b[0m: No module named 'sklearn'"
          ]
        }
      ],
      "source": [
        "from sklearn.linear_model import LinearRegression\n",
        "import pandas as pd\n",
        "import matplotlib.pyplot as plt"
      ]
    },
    {
      "cell_type": "code",
      "execution_count": null,
      "metadata": {
        "id": "fkdkmYYkJZ4s"
      },
      "outputs": [],
      "source": [
        "file = 'https://github.com/kanacb/pythonmasterclass/blob/main/iPhone%20Prices.csv?raw=true'\n",
        "df = pd.read_csv(file)\n",
        "df"
      ]
    },
    {
      "cell_type": "code",
      "execution_count": null,
      "metadata": {
        "id": "SFTtT0JCIbnW"
      },
      "outputs": [],
      "source": [
        "df.info()"
      ]
    },
    {
      "cell_type": "code",
      "execution_count": null,
      "metadata": {
        "id": "tu9T4-nJJCBE"
      },
      "outputs": [],
      "source": [
        "df.describe()"
      ]
    },
    {
      "cell_type": "code",
      "execution_count": null,
      "metadata": {
        "id": "8kl7LoD0dSYJ"
      },
      "outputs": [],
      "source": [
        "plt.plot(df['Number'], df['Price'])\n",
        "plt.show()"
      ]
    },
    {
      "cell_type": "code",
      "execution_count": null,
      "metadata": {
        "id": "fR1YSV8ZKXHM"
      },
      "outputs": [],
      "source": [
        "model = LinearRegression()"
      ]
    },
    {
      "cell_type": "code",
      "execution_count": null,
      "metadata": {
        "id": "VwG6PzBdKt5O"
      },
      "outputs": [],
      "source": [
        "model.fit(df[['Number']], df[['Price']])"
      ]
    },
    {
      "cell_type": "code",
      "execution_count": null,
      "metadata": {
        "id": "1RTdI6QBLT2k"
      },
      "outputs": [],
      "source": [
        "print(\"Predict for 17th  = USD$\",\"{:2.2f}\".format(model.predict([[24]])[0][0]))"
      ]
    },
    {
      "cell_type": "code",
      "execution_count": null,
      "metadata": {
        "id": "oYvntJqoLhe7"
      },
      "outputs": [],
      "source": [
        "plt.scatter(df['Number'], df['Price'])\n",
        "plt.show()"
      ]
    },
    {
      "cell_type": "code",
      "execution_count": null,
      "metadata": {
        "id": "Ym2EB9DqNFal"
      },
      "outputs": [],
      "source": [
        "df['Price']"
      ]
    },
    {
      "cell_type": "code",
      "execution_count": null,
      "metadata": {
        "id": "PjeE9vL6OIqM"
      },
      "outputs": [],
      "source": [
        "df[\"currency\"] = df['Price']*4.2\n",
        "df"
      ]
    },
    {
      "cell_type": "markdown",
      "metadata": {
        "id": "bEGjd5WTTMYI"
      },
      "source": [
        "y = mx + c\n",
        "\n",
        "m = coef_"
      ]
    },
    {
      "cell_type": "code",
      "execution_count": null,
      "metadata": {
        "id": "5sUrqL0aTGTo"
      },
      "outputs": [],
      "source": [
        "print(\"m=\")\n",
        "model.coef_"
      ]
    },
    {
      "cell_type": "code",
      "execution_count": null,
      "metadata": {
        "id": "Egw3QAVUTRGB"
      },
      "outputs": [],
      "source": [
        "print(\"c=\")\n",
        "model.intercept_"
      ]
    },
    {
      "cell_type": "code",
      "execution_count": null,
      "metadata": {
        "id": "Rh5IS6GOYF6U"
      },
      "outputs": [],
      "source": [
        "pred = model.predict(df[['Number']])\n",
        "pred"
      ]
    },
    {
      "cell_type": "code",
      "execution_count": null,
      "metadata": {
        "id": "t59X6NhWTeUY"
      },
      "outputs": [],
      "source": [
        "from sklearn import metrics\n",
        "import numpy as np\n",
        "print('Mean Absolute Error:', metrics.mean_absolute_error(df[['Price']], pred))\n",
        "print('Mean Squared Error:', metrics.mean_squared_error(df[['Price']], pred))\n",
        "print('Root Mean Squared Error:', np.sqrt(metrics.mean_squared_error(df[['Price']], pred)))"
      ]
    },
    {
      "cell_type": "code",
      "execution_count": null,
      "metadata": {
        "id": "FcWHOcIbZBHc"
      },
      "outputs": [],
      "source": [
        "plt.plot(df['Number'], pred,'r--')\n",
        "plt.scatter(df['Number'], df['Price'])\n",
        "plt.show()"
      ]
    },
    {
      "cell_type": "code",
      "execution_count": null,
      "metadata": {
        "id": "z4wAeAy6Uto0"
      },
      "outputs": [],
      "source": [
        "df2 = df[:-1]\n",
        "df2.tail()"
      ]
    },
    {
      "cell_type": "code",
      "execution_count": null,
      "metadata": {
        "id": "K6Y_YydhU60l"
      },
      "outputs": [],
      "source": [
        "plt.scatter(df2['Number'], df2['Price'])\n",
        "plt.show()"
      ]
    },
    {
      "cell_type": "code",
      "execution_count": null,
      "metadata": {
        "id": "ODIbYCR-VCbB"
      },
      "outputs": [],
      "source": [
        "model2 = LinearRegression()\n",
        "model2.fit(df2[['Number']],df2[['Price']])\n",
        "pred2 = model2.predict(df2[['Number']])\n",
        "print('Mean Absolute Error:', metrics.mean_absolute_error(df[['Price']], pred))\n",
        "print('Mean Squared Error:', metrics.mean_squared_error(df[['Price']], pred))\n",
        "print('Root Mean Squared Error:', np.sqrt(metrics.mean_squared_error(df[['Price']], pred)))\n",
        "print('Mean Absolute Error:', metrics.mean_absolute_error(df2[['Price']], pred2))\n",
        "print('Mean Squared Error:', metrics.mean_squared_error(df2[['Price']], pred2))\n",
        "print('Root Mean Squared Error:', np.sqrt(metrics.mean_squared_error(df2[['Price']], pred2)))"
      ]
    },
    {
      "cell_type": "code",
      "execution_count": null,
      "metadata": {
        "id": "45lCElUwVsQi"
      },
      "outputs": [],
      "source": [
        "plt.plot(df2['Number'], pred2,'r--')\n",
        "plt.scatter(df2['Number'], df2['Price'])\n",
        "plt.show()"
      ]
    },
    {
      "cell_type": "code",
      "execution_count": null,
      "metadata": {
        "id": "a3VMm2jBR71S"
      },
      "outputs": [],
      "source": [
        "print(df.describe())"
      ]
    },
    {
      "cell_type": "code",
      "execution_count": null,
      "metadata": {
        "id": "HGJOcmE5STsS"
      },
      "outputs": [],
      "source": [
        "df['Price'].plot.density(title=\"Probability Distribution Function\",figsize=(16,8),grid=True,legend=False)"
      ]
    },
    {
      "cell_type": "code",
      "execution_count": null,
      "metadata": {
        "id": "5Q_MjZIrTKWD"
      },
      "outputs": [],
      "source": [
        "df['Price'].median()"
      ]
    },
    {
      "cell_type": "markdown",
      "metadata": {
        "id": "6NnZK0oFfxbD"
      },
      "source": [
        "Assignment\n",
        "1. Use the Covid data\n",
        "2. Predict what is the total infection for tomorrow?\n"
      ]
    }
  ],
  "metadata": {
    "colab": {
      "authorship_tag": "ABX9TyO9fwaKthv5XqFuef//DFQu",
      "collapsed_sections": [],
      "include_colab_link": true,
      "name": "Lesson8.ipynb",
      "private_outputs": true,
      "provenance": []
    },
    "kernelspec": {
      "display_name": "Python 3",
      "name": "python3"
    },
    "language_info": {
      "codemirror_mode": {
        "name": "ipython",
        "version": 3
      },
      "file_extension": ".py",
      "mimetype": "text/x-python",
      "name": "python",
      "nbconvert_exporter": "python",
      "pygments_lexer": "ipython3",
      "version": "3.11.5"
    }
  },
  "nbformat": 4,
  "nbformat_minor": 0
}
