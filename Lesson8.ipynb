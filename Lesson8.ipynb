{
  "nbformat": 4,
  "nbformat_minor": 0,
  "metadata": {
    "colab": {
      "name": "Lesson8.ipynb",
      "private_outputs": true,
      "provenance": [],
      "collapsed_sections": [],
      "authorship_tag": "ABX9TyO9fwaKthv5XqFuef//DFQu",
      "include_colab_link": true
    },
    "kernelspec": {
      "name": "python3",
      "display_name": "Python 3"
    },
    "language_info": {
      "name": "python"
    }
  },
  "cells": [
    {
      "cell_type": "markdown",
      "metadata": {
        "id": "view-in-github",
        "colab_type": "text"
      },
      "source": [
        "<a href=\"https://colab.research.google.com/github/kanacb/pythonmasterclass/blob/main/Lesson8.ipynb\" target=\"_parent\"><img src=\"https://colab.research.google.com/assets/colab-badge.svg\" alt=\"Open In Colab\"/></a>"
      ]
    },
    {
      "cell_type": "markdown",
      "metadata": {
        "id": "-ZuPld5UIyh0"
      },
      "source": [
        "# Lesson 8\n",
        "Python Statistics & Probability Theory\n",
        "\n",
        "*   Discrete \n",
        "*   Continuos\n",
        "<br>\n",
        "<br>\n",
        "[link text](https://en.wikipedia.org/wiki/List_of_probability_distributions)"
      ]
    },
    {
      "cell_type": "code",
      "metadata": {
        "id": "hR-JRro4IcSG"
      },
      "source": [
        "from sklearn.linear_model import LinearRegression\n",
        "import pandas as pd"
      ],
      "execution_count": null,
      "outputs": []
    },
    {
      "cell_type": "code",
      "metadata": {
        "id": "fkdkmYYkJZ4s"
      },
      "source": [
        "file = 'https://github.com/kanacb/pythonmasterclass/blob/main/iPhone%20Prices.csv?raw=true'\n",
        "df = pd.read_csv(file)\n",
        "df"
      ],
      "execution_count": null,
      "outputs": []
    },
    {
      "cell_type": "code",
      "metadata": {
        "id": "SFTtT0JCIbnW"
      },
      "source": [
        "df.info()"
      ],
      "execution_count": null,
      "outputs": []
    },
    {
      "cell_type": "code",
      "metadata": {
        "id": "tu9T4-nJJCBE"
      },
      "source": [
        "df.describe()"
      ],
      "execution_count": null,
      "outputs": []
    },
    {
      "cell_type": "code",
      "source": [
        "import matplotlib.pyplot as plt\n",
        "plt.plot(df['Number'], df['Price'])\n",
        "plt.show()"
      ],
      "metadata": {
        "id": "8kl7LoD0dSYJ"
      },
      "execution_count": null,
      "outputs": []
    },
    {
      "cell_type": "code",
      "metadata": {
        "id": "fR1YSV8ZKXHM"
      },
      "source": [
        "model = LinearRegression()"
      ],
      "execution_count": null,
      "outputs": []
    },
    {
      "cell_type": "code",
      "metadata": {
        "id": "VwG6PzBdKt5O"
      },
      "source": [
        "model.fit(df[['Number']], df[['Price']])"
      ],
      "execution_count": null,
      "outputs": []
    },
    {
      "cell_type": "code",
      "metadata": {
        "id": "1RTdI6QBLT2k"
      },
      "source": [
        "print(\"Predict for 17th  = USD$\",\"{:2.2f}\".format(model.predict([[24]])[0][0]))"
      ],
      "execution_count": null,
      "outputs": []
    },
    {
      "cell_type": "code",
      "metadata": {
        "id": "oYvntJqoLhe7"
      },
      "source": [
        "import matplotlib.pyplot as plt\n",
        "plt.scatter(df['Number'], df['Price'])\n",
        "plt.show()"
      ],
      "execution_count": null,
      "outputs": []
    },
    {
      "cell_type": "code",
      "metadata": {
        "id": "Ym2EB9DqNFal"
      },
      "source": [
        "df['Price']"
      ],
      "execution_count": null,
      "outputs": []
    },
    {
      "cell_type": "code",
      "metadata": {
        "id": "PjeE9vL6OIqM"
      },
      "source": [
        "df[\"currency\"] = df['Price']*4.2\n",
        "df"
      ],
      "execution_count": null,
      "outputs": []
    },
    {
      "cell_type": "markdown",
      "metadata": {
        "id": "bEGjd5WTTMYI"
      },
      "source": [
        "y = mx + c\n",
        "\n",
        "m = coef_"
      ]
    },
    {
      "cell_type": "code",
      "metadata": {
        "id": "5sUrqL0aTGTo"
      },
      "source": [
        "model.coef_"
      ],
      "execution_count": null,
      "outputs": []
    },
    {
      "cell_type": "code",
      "metadata": {
        "id": "Egw3QAVUTRGB"
      },
      "source": [
        "model.intercept_"
      ],
      "execution_count": null,
      "outputs": []
    },
    {
      "cell_type": "code",
      "metadata": {
        "id": "Rh5IS6GOYF6U"
      },
      "source": [
        "pred = model.predict(df[['Number']])\n",
        "pred"
      ],
      "execution_count": null,
      "outputs": []
    },
    {
      "cell_type": "code",
      "metadata": {
        "id": "t59X6NhWTeUY"
      },
      "source": [
        "from sklearn import metrics\n",
        "import numpy as np\n",
        "print('Mean Absolute Error:', metrics.mean_absolute_error(df[['Price']], pred))\n",
        "print('Mean Squared Error:', metrics.mean_squared_error(df[['Price']], pred))\n",
        "print('Root Mean Squared Error:', np.sqrt(metrics.mean_squared_error(df[['Price']], pred)))"
      ],
      "execution_count": null,
      "outputs": []
    },
    {
      "cell_type": "code",
      "metadata": {
        "id": "FcWHOcIbZBHc"
      },
      "source": [
        "plt.plot(df['Number'], pred,'r--')\n",
        "plt.scatter(df['Number'], df['Price'])\n",
        "plt.show()"
      ],
      "execution_count": null,
      "outputs": []
    },
    {
      "cell_type": "code",
      "metadata": {
        "id": "z4wAeAy6Uto0"
      },
      "source": [
        "df2 = df[:-1]\n",
        "df2.tail()"
      ],
      "execution_count": null,
      "outputs": []
    },
    {
      "cell_type": "code",
      "metadata": {
        "id": "K6Y_YydhU60l"
      },
      "source": [
        "plt.scatter(df2['Number'], df2['Price'])\n",
        "plt.show()"
      ],
      "execution_count": null,
      "outputs": []
    },
    {
      "cell_type": "code",
      "metadata": {
        "id": "ODIbYCR-VCbB"
      },
      "source": [
        "model2 = LinearRegression()\n",
        "model2.fit(df2[['Number']],df2[['Price']])\n",
        "pred2 = model2.predict(df2[['Number']])\n",
        "print('Mean Absolute Error:', metrics.mean_absolute_error(df[['Price']], pred))\n",
        "print('Mean Squared Error:', metrics.mean_squared_error(df[['Price']], pred))\n",
        "print('Root Mean Squared Error:', np.sqrt(metrics.mean_squared_error(df[['Price']], pred)))\n",
        "print('Mean Absolute Error:', metrics.mean_absolute_error(df2[['Price']], pred2))\n",
        "print('Mean Squared Error:', metrics.mean_squared_error(df2[['Price']], pred2))\n",
        "print('Root Mean Squared Error:', np.sqrt(metrics.mean_squared_error(df2[['Price']], pred2)))"
      ],
      "execution_count": null,
      "outputs": []
    },
    {
      "cell_type": "code",
      "metadata": {
        "id": "45lCElUwVsQi"
      },
      "source": [
        "plt.plot(df2['Number'], pred2,'r--')\n",
        "plt.scatter(df2['Number'], df2['Price'])\n",
        "plt.show()"
      ],
      "execution_count": null,
      "outputs": []
    },
    {
      "cell_type": "code",
      "metadata": {
        "id": "a3VMm2jBR71S"
      },
      "source": [
        "print(df.describe())"
      ],
      "execution_count": null,
      "outputs": []
    },
    {
      "cell_type": "code",
      "metadata": {
        "id": "HGJOcmE5STsS"
      },
      "source": [
        "df['Price'].plot.density(title=\"Probability Distribution Function\",figsize=(16,8),grid=True,legend=False)"
      ],
      "execution_count": null,
      "outputs": []
    },
    {
      "cell_type": "code",
      "metadata": {
        "id": "5Q_MjZIrTKWD"
      },
      "source": [
        "df['Price'].median()"
      ],
      "execution_count": null,
      "outputs": []
    },
    {
      "cell_type": "markdown",
      "source": [
        "Assignment\n",
        "1. Use the Covid data\n",
        "2. Predict what is the total infection for tomorrow?\n"
      ],
      "metadata": {
        "id": "6NnZK0oFfxbD"
      }
    }
  ]
}