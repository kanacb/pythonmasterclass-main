{
  "cells": [
    {
      "cell_type": "markdown",
      "metadata": {
        "colab_type": "text",
        "id": "view-in-github"
      },
      "source": [
        "<a href=\"https://colab.research.google.com/github/kanacb/pythonmasterclass-main/blob/main/Lesson3.ipynb\" target=\"_parent\"><img src=\"https://colab.research.google.com/assets/colab-badge.svg\" alt=\"Open In Colab\"/></a>"
      ]
    },
    {
      "cell_type": "markdown",
      "metadata": {
        "id": "NrKICcSUnWsS"
      },
      "source": [
        "# Lesson 3 - Squares, Roots and Cubes\n",
        "Why are these tables: squares, roots and cubes important? They form the fundamental depth in understaind the pattern in numbers. The purpose to demonstrate the patterns of numbers form when put together as a table. There is broader purposes of this experience. The most important understanding of mathematics is to learn the system of patterns in numbers. This exercise is to show a clear view of how the numbers work with each other and the pattern it creates."
      ]
    },
    {
      "cell_type": "markdown",
      "metadata": {
        "id": "Prkzt2lIwr3N"
      },
      "source": [
        "The Power of **\n",
        "\n"
      ]
    },
    {
      "cell_type": "code",
      "execution_count": null,
      "metadata": {
        "id": "23w2KnXZnV3Q"
      },
      "outputs": [],
      "source": [
        "7**2 # the square of 7"
      ]
    },
    {
      "cell_type": "code",
      "execution_count": null,
      "metadata": {
        "id": "tDcTaiDfj_br"
      },
      "outputs": [],
      "source": [
        "49**0.5 # the root of 7"
      ]
    },
    {
      "cell_type": "code",
      "execution_count": null,
      "metadata": {
        "id": "Z21C98v7kGWa"
      },
      "outputs": [],
      "source": [
        "7 ** 3 # the cube of 7"
      ]
    },
    {
      "cell_type": "markdown",
      "metadata": {
        "id": "6fhZCUAUkCDh"
      },
      "source": [
        "# Lets use Loops to deconstruct the Power Operator\n",
        "\n",
        "Recap on Loops\n",
        "1. Ranges - creates range of values\n",
        "2. For Loops - for a speified length\n",
        "3. While Loops - while the condition is true\n",
        "4. Do Loops - do until when condition is true\n",
        "\n",
        "A For Loop needs an Iteratorable Array Variable\n",
        "\n",
        "```\n",
        "fruits = [\"apple\", \"banana\", \"cherry\"]\n",
        "for x in fruits:\n",
        "  print(x)\n",
        "```\n",
        "\n",
        "\n",
        "A While Loop needs a condition to control the loop\n",
        "\n",
        "```\n",
        "i = 1\n",
        "while i < 6:\n",
        "  print(i)\n",
        "  i += 1\n",
        "  if i==4: break\n",
        "```\n",
        "\n"
      ]
    },
    {
      "cell_type": "markdown",
      "metadata": {
        "id": "ziiKsdg0k3Bp"
      },
      "source": [
        "**Lets Play with the Numbers**"
      ]
    },
    {
      "cell_type": "markdown",
      "metadata": {
        "id": "UrD0uiKvoBJJ"
      },
      "source": [
        "The times table From 1 to x"
      ]
    },
    {
      "cell_type": "code",
      "execution_count": 2,
      "metadata": {
        "id": "nrI4hL0coQ-I"
      },
      "outputs": [
        {
          "name": "stdout",
          "output_type": "stream",
          "text": [
            " 1 Times Table\t\t 2 Times Table\t\t 3 Times Table\t\t 4 Times Table\t\t 5 Times Table\t\t 6 Times Table\t\t 7 Times Table\t\t 8 Times Table\t\t 9 Times Table\t\t 10 Times Table\t\t 11 Times Table\t\t 12 Times Table\t\t\n",
            " 1  x  1 =   1, \t 1  x  2 =   2, \t 1  x  3 =   3, \t 1  x  4 =   4, \t 1  x  5 =   5, \t 1  x  6 =   6, \t 1  x  7 =   7, \t 1  x  8 =   8, \t 1  x  9 =   9, \t 1  x 10 =  10, \t 1  x 11 =  11, \t 1  x 12 =  12, \t\n",
            " 2  x  1 =   2, \t 2  x  2 =   4, \t 2  x  3 =   6, \t 2  x  4 =   8, \t 2  x  5 =  10, \t 2  x  6 =  12, \t 2  x  7 =  14, \t 2  x  8 =  16, \t 2  x  9 =  18, \t 2  x 10 =  20, \t 2  x 11 =  22, \t 2  x 12 =  24, \t\n",
            " 3  x  1 =   3, \t 3  x  2 =   6, \t 3  x  3 =   9, \t 3  x  4 =  12, \t 3  x  5 =  15, \t 3  x  6 =  18, \t 3  x  7 =  21, \t 3  x  8 =  24, \t 3  x  9 =  27, \t 3  x 10 =  30, \t 3  x 11 =  33, \t 3  x 12 =  36, \t\n",
            " 4  x  1 =   4, \t 4  x  2 =   8, \t 4  x  3 =  12, \t 4  x  4 =  16, \t 4  x  5 =  20, \t 4  x  6 =  24, \t 4  x  7 =  28, \t 4  x  8 =  32, \t 4  x  9 =  36, \t 4  x 10 =  40, \t 4  x 11 =  44, \t 4  x 12 =  48, \t\n",
            " 5  x  1 =   5, \t 5  x  2 =  10, \t 5  x  3 =  15, \t 5  x  4 =  20, \t 5  x  5 =  25, \t 5  x  6 =  30, \t 5  x  7 =  35, \t 5  x  8 =  40, \t 5  x  9 =  45, \t 5  x 10 =  50, \t 5  x 11 =  55, \t 5  x 12 =  60, \t\n",
            " 6  x  1 =   6, \t 6  x  2 =  12, \t 6  x  3 =  18, \t 6  x  4 =  24, \t 6  x  5 =  30, \t 6  x  6 =  36, \t 6  x  7 =  42, \t 6  x  8 =  48, \t 6  x  9 =  54, \t 6  x 10 =  60, \t 6  x 11 =  66, \t 6  x 12 =  72, \t\n",
            " 7  x  1 =   7, \t 7  x  2 =  14, \t 7  x  3 =  21, \t 7  x  4 =  28, \t 7  x  5 =  35, \t 7  x  6 =  42, \t 7  x  7 =  49, \t 7  x  8 =  56, \t 7  x  9 =  63, \t 7  x 10 =  70, \t 7  x 11 =  77, \t 7  x 12 =  84, \t\n",
            " 8  x  1 =   8, \t 8  x  2 =  16, \t 8  x  3 =  24, \t 8  x  4 =  32, \t 8  x  5 =  40, \t 8  x  6 =  48, \t 8  x  7 =  56, \t 8  x  8 =  64, \t 8  x  9 =  72, \t 8  x 10 =  80, \t 8  x 11 =  88, \t 8  x 12 =  96, \t\n",
            " 9  x  1 =   9, \t 9  x  2 =  18, \t 9  x  3 =  27, \t 9  x  4 =  36, \t 9  x  5 =  45, \t 9  x  6 =  54, \t 9  x  7 =  63, \t 9  x  8 =  72, \t 9  x  9 =  81, \t 9  x 10 =  90, \t 9  x 11 =  99, \t 9  x 12 = 108, \t\n",
            "10  x  1 =  10, \t10  x  2 =  20, \t10  x  3 =  30, \t10  x  4 =  40, \t10  x  5 =  50, \t10  x  6 =  60, \t10  x  7 =  70, \t10  x  8 =  80, \t10  x  9 =  90, \t10  x 10 = 100, \t10  x 11 = 110, \t10  x 12 = 120, \t\n",
            "11  x  1 =  11, \t11  x  2 =  22, \t11  x  3 =  33, \t11  x  4 =  44, \t11  x  5 =  55, \t11  x  6 =  66, \t11  x  7 =  77, \t11  x  8 =  88, \t11  x  9 =  99, \t11  x 10 = 110, \t11  x 11 = 121, \t11  x 12 = 132, \t\n",
            "12  x  1 =  12, \t12  x  2 =  24, \t12  x  3 =  36, \t12  x  4 =  48, \t12  x  5 =  60, \t12  x  6 =  72, \t12  x  7 =  84, \t12  x  8 =  96, \t12  x  9 = 108, \t12  x 10 = 120, \t12  x 11 = 132, \t12  x 12 = 144, \t\n"
          ]
        }
      ],
      "source": [
        "x = 12 # Creating a range of values, for the table.\n",
        "line = \"\"  # Creating an empty string to print in a line of the times table\n",
        "for k in range(1,x+1):\n",
        "  line += \"{:13}\\t\\t\".format(\" \" + str(k) + \" Times Table\")\n",
        "print(line) # header line\n",
        "line=\"\"\n",
        "for i in range(1,x+1):  # the first loop\n",
        "  line = \"\" # empty the string for the next line\n",
        "  for j in range(1,x+1):\n",
        "    line += \"{:2}  x {:2} = {:3}\".format(i,j,i*j) + \", \\t\"\n",
        "  print(line)"
      ]
    },
    {
      "cell_type": "markdown",
      "metadata": {
        "id": "9rrBdAmjtllX"
      },
      "source": [
        "Now, lets add some color\n",
        "\n",
        "1.   Red for Squares\n",
        "2.   Blue for Nines\n",
        "3.   Black for 2x 4x 6x 8x\n",
        "4.   Green for 3x 7x\n"
      ]
    },
    {
      "cell_type": "code",
      "execution_count": 3,
      "metadata": {
        "colab": {
          "base_uri": "https://localhost:8080/"
        },
        "id": "K1hjtt6DtwJF",
        "outputId": "434bc942-0c31-40dd-eb04-c401b94ec6ac"
      },
      "outputs": [
        {
          "name": "stdout",
          "output_type": "stream",
          "text": [
            "\u001b[38;2;255;0;0m Squares are Red   \u001b[38;2;0;0;255m 9x in Blue Adds to 9    \u001b[0m8x, 6x, 4x, 2x is a combination of [0,2,4,6,8]   \u001b[38;2;0;255;0m 3x, 7x in green\n",
            "\u001b[38;2;255;0;0m  1  x  1 =   1 ==>  1        \u001b[0m,\t\u001b[38;2;0;0;0m  1  x  2 =   2 ==>   2       \u001b[0m,\t\u001b[38;2;0;255;0m  1  x  3 =   3 ==>    3      \u001b[0m,\t\u001b[38;2;0;0;0m  1  x  4 =   4 ==>     4     \u001b[0m,\t\u001b[38;2;0;0;0m  1  x  5 =   5 ==>      5    \u001b[0m,\t\u001b[38;2;0;0;0m  1  x  6 =   6 ==>       6   \u001b[0m,\t\u001b[38;2;0;255;0m  1  x  7 =   7 ==>        7  \u001b[0m,\t\u001b[38;2;0;0;0m  1  x  8 =   8 ==>         8 \u001b[0m,\t\u001b[38;2;0;0;255m  1  x  9 =   9 ==>          9\u001b[0m,\t\u001b[38;2;0;0;0m  1  x 10 =  10 ==> 0         \u001b[0m,\t\u001b[38;2;0;0;0m  1  x 11 =  11 ==>  1        \u001b[0m,\t\u001b[38;2;0;0;0m  1  x 12 =  12 ==>   2       \u001b[0m,\t\n",
            "\u001b[38;2;0;0;0m  2  x  1 =   2 ==>   2       \u001b[0m,\t\u001b[38;2;255;0;0m  2  x  2 =   4 ==>     4     \u001b[0m,\t\u001b[38;2;0;255;0m  2  x  3 =   6 ==>       6   \u001b[0m,\t\u001b[38;2;0;0;0m  2  x  4 =   8 ==>         8 \u001b[0m,\t\u001b[38;2;0;0;0m  2  x  5 =  10 ==> 0         \u001b[0m,\t\u001b[38;2;0;0;0m  2  x  6 =  12 ==>   2       \u001b[0m,\t\u001b[38;2;0;255;0m  2  x  7 =  14 ==>     4     \u001b[0m,\t\u001b[38;2;0;0;0m  2  x  8 =  16 ==>       6   \u001b[0m,\t\u001b[38;2;0;0;255m  2  x  9 =  18 ==>         8 \u001b[0m,\t\u001b[38;2;0;0;0m  2  x 10 =  20 ==> 0         \u001b[0m,\t\u001b[38;2;0;0;0m  2  x 11 =  22 ==>   2       \u001b[0m,\t\u001b[38;2;0;0;0m  2  x 12 =  24 ==>     4     \u001b[0m,\t\n",
            "\u001b[38;2;0;0;0m  3  x  1 =   3 ==>    3      \u001b[0m,\t\u001b[38;2;0;0;0m  3  x  2 =   6 ==>       6   \u001b[0m,\t\u001b[38;2;255;0;0m  3  x  3 =   9 ==>          9\u001b[0m,\t\u001b[38;2;0;0;0m  3  x  4 =  12 ==>   2       \u001b[0m,\t\u001b[38;2;0;0;0m  3  x  5 =  15 ==>      5    \u001b[0m,\t\u001b[38;2;0;0;255m  3  x  6 =  18 ==>         8 \u001b[0m,\t\u001b[38;2;0;255;0m  3  x  7 =  21 ==>  1        \u001b[0m,\t\u001b[38;2;0;0;0m  3  x  8 =  24 ==>     4     \u001b[0m,\t\u001b[38;2;0;0;255m  3  x  9 =  27 ==>        7  \u001b[0m,\t\u001b[38;2;0;0;0m  3  x 10 =  30 ==> 0         \u001b[0m,\t\u001b[38;2;0;0;0m  3  x 11 =  33 ==>    3      \u001b[0m,\t\u001b[38;2;0;0;255m  3  x 12 =  36 ==>       6   \u001b[0m,\t\n",
            "\u001b[38;2;0;0;0m  4  x  1 =   4 ==>     4     \u001b[0m,\t\u001b[38;2;0;0;0m  4  x  2 =   8 ==>         8 \u001b[0m,\t\u001b[38;2;0;255;0m  4  x  3 =  12 ==>   2       \u001b[0m,\t\u001b[38;2;255;0;0m  4  x  4 =  16 ==>       6   \u001b[0m,\t\u001b[38;2;0;0;0m  4  x  5 =  20 ==> 0         \u001b[0m,\t\u001b[38;2;0;0;0m  4  x  6 =  24 ==>     4     \u001b[0m,\t\u001b[38;2;0;255;0m  4  x  7 =  28 ==>         8 \u001b[0m,\t\u001b[38;2;0;0;0m  4  x  8 =  32 ==>   2       \u001b[0m,\t\u001b[38;2;0;0;255m  4  x  9 =  36 ==>       6   \u001b[0m,\t\u001b[38;2;0;0;0m  4  x 10 =  40 ==> 0         \u001b[0m,\t\u001b[38;2;0;0;0m  4  x 11 =  44 ==>     4     \u001b[0m,\t\u001b[38;2;0;0;0m  4  x 12 =  48 ==>         8 \u001b[0m,\t\n",
            "\u001b[38;2;0;0;0m  5  x  1 =   5 ==>      5    \u001b[0m,\t\u001b[38;2;0;0;0m  5  x  2 =  10 ==> 0         \u001b[0m,\t\u001b[38;2;0;255;0m  5  x  3 =  15 ==>      5    \u001b[0m,\t\u001b[38;2;0;0;0m  5  x  4 =  20 ==> 0         \u001b[0m,\t\u001b[38;2;255;0;0m  5  x  5 =  25 ==>      5    \u001b[0m,\t\u001b[38;2;0;0;0m  5  x  6 =  30 ==> 0         \u001b[0m,\t\u001b[38;2;0;255;0m  5  x  7 =  35 ==>      5    \u001b[0m,\t\u001b[38;2;0;0;0m  5  x  8 =  40 ==> 0         \u001b[0m,\t\u001b[38;2;0;0;255m  5  x  9 =  45 ==>      5    \u001b[0m,\t\u001b[38;2;0;0;0m  5  x 10 =  50 ==> 0         \u001b[0m,\t\u001b[38;2;0;0;0m  5  x 11 =  55 ==>      5    \u001b[0m,\t\u001b[38;2;0;0;0m  5  x 12 =  60 ==> 0         \u001b[0m,\t\n",
            "\u001b[38;2;0;0;0m  6  x  1 =   6 ==>       6   \u001b[0m,\t\u001b[38;2;0;0;0m  6  x  2 =  12 ==>   2       \u001b[0m,\t\u001b[38;2;0;0;255m  6  x  3 =  18 ==>         8 \u001b[0m,\t\u001b[38;2;0;0;0m  6  x  4 =  24 ==>     4     \u001b[0m,\t\u001b[38;2;0;0;0m  6  x  5 =  30 ==> 0         \u001b[0m,\t\u001b[38;2;255;0;0m  6  x  6 =  36 ==>       6   \u001b[0m,\t\u001b[38;2;0;255;0m  6  x  7 =  42 ==>   2       \u001b[0m,\t\u001b[38;2;0;0;0m  6  x  8 =  48 ==>         8 \u001b[0m,\t\u001b[38;2;0;0;255m  6  x  9 =  54 ==>     4     \u001b[0m,\t\u001b[38;2;0;0;0m  6  x 10 =  60 ==> 0         \u001b[0m,\t\u001b[38;2;0;0;0m  6  x 11 =  66 ==>       6   \u001b[0m,\t\u001b[38;2;0;0;255m  6  x 12 =  72 ==>   2       \u001b[0m,\t\n",
            "\u001b[38;2;0;0;0m  7  x  1 =   7 ==>        7  \u001b[0m,\t\u001b[38;2;0;0;0m  7  x  2 =  14 ==>     4     \u001b[0m,\t\u001b[38;2;0;255;0m  7  x  3 =  21 ==>  1        \u001b[0m,\t\u001b[38;2;0;0;0m  7  x  4 =  28 ==>         8 \u001b[0m,\t\u001b[38;2;0;0;0m  7  x  5 =  35 ==>      5    \u001b[0m,\t\u001b[38;2;0;0;0m  7  x  6 =  42 ==>   2       \u001b[0m,\t\u001b[38;2;255;0;0m  7  x  7 =  49 ==>          9\u001b[0m,\t\u001b[38;2;0;0;0m  7  x  8 =  56 ==>       6   \u001b[0m,\t\u001b[38;2;0;0;255m  7  x  9 =  63 ==>    3      \u001b[0m,\t\u001b[38;2;0;0;0m  7  x 10 =  70 ==> 0         \u001b[0m,\t\u001b[38;2;0;0;0m  7  x 11 =  77 ==>        7  \u001b[0m,\t\u001b[38;2;0;0;0m  7  x 12 =  84 ==>     4     \u001b[0m,\t\n",
            "\u001b[38;2;0;0;0m  8  x  1 =   8 ==>         8 \u001b[0m,\t\u001b[38;2;0;0;0m  8  x  2 =  16 ==>       6   \u001b[0m,\t\u001b[38;2;0;255;0m  8  x  3 =  24 ==>     4     \u001b[0m,\t\u001b[38;2;0;0;0m  8  x  4 =  32 ==>   2       \u001b[0m,\t\u001b[38;2;0;0;0m  8  x  5 =  40 ==> 0         \u001b[0m,\t\u001b[38;2;0;0;0m  8  x  6 =  48 ==>         8 \u001b[0m,\t\u001b[38;2;0;255;0m  8  x  7 =  56 ==>       6   \u001b[0m,\t\u001b[38;2;255;0;0m  8  x  8 =  64 ==>     4     \u001b[0m,\t\u001b[38;2;0;0;255m  8  x  9 =  72 ==>   2       \u001b[0m,\t\u001b[38;2;0;0;0m  8  x 10 =  80 ==> 0         \u001b[0m,\t\u001b[38;2;0;0;0m  8  x 11 =  88 ==>         8 \u001b[0m,\t\u001b[38;2;0;0;0m  8  x 12 =  96 ==>       6   \u001b[0m,\t\n",
            "\u001b[38;2;0;0;255m  9  x  1 =   9 ==>          9\u001b[0m,\t\u001b[38;2;0;0;255m  9  x  2 =  18 ==>         8 \u001b[0m,\t\u001b[38;2;0;0;255m  9  x  3 =  27 ==>        7  \u001b[0m,\t\u001b[38;2;0;0;255m  9  x  4 =  36 ==>       6   \u001b[0m,\t\u001b[38;2;0;0;255m  9  x  5 =  45 ==>      5    \u001b[0m,\t\u001b[38;2;0;0;255m  9  x  6 =  54 ==>     4     \u001b[0m,\t\u001b[38;2;0;0;255m  9  x  7 =  63 ==>    3      \u001b[0m,\t\u001b[38;2;0;0;255m  9  x  8 =  72 ==>   2       \u001b[0m,\t\u001b[38;2;255;0;0m  9  x  9 =  81 ==>  1        \u001b[0m,\t\u001b[38;2;0;0;255m  9  x 10 =  90 ==> 0         \u001b[0m,\t\u001b[38;2;0;0;0m  9  x 11 =  99 ==>          9\u001b[0m,\t\u001b[38;2;0;0;255m  9  x 12 = 108 ==>         8 \u001b[0m,\t\n",
            "\u001b[38;2;0;0;0m 10  x  1 =  10 ==> 0         \u001b[0m,\t\u001b[38;2;0;0;0m 10  x  2 =  20 ==> 0         \u001b[0m,\t\u001b[38;2;0;255;0m 10  x  3 =  30 ==> 0         \u001b[0m,\t\u001b[38;2;0;0;0m 10  x  4 =  40 ==> 0         \u001b[0m,\t\u001b[38;2;0;0;0m 10  x  5 =  50 ==> 0         \u001b[0m,\t\u001b[38;2;0;0;0m 10  x  6 =  60 ==> 0         \u001b[0m,\t\u001b[38;2;0;255;0m 10  x  7 =  70 ==> 0         \u001b[0m,\t\u001b[38;2;0;0;0m 10  x  8 =  80 ==> 0         \u001b[0m,\t\u001b[38;2;0;0;255m 10  x  9 =  90 ==> 0         \u001b[0m,\t\u001b[38;2;255;0;0m 10  x 10 = 100 ==> 0         \u001b[0m,\t\u001b[38;2;0;0;0m 10  x 11 = 110 ==> 0         \u001b[0m,\t\u001b[38;2;0;0;0m 10  x 12 = 120 ==> 0         \u001b[0m,\t\n",
            "\u001b[38;2;0;0;0m 11  x  1 =  11 ==>  1        \u001b[0m,\t\u001b[38;2;0;0;0m 11  x  2 =  22 ==>   2       \u001b[0m,\t\u001b[38;2;0;255;0m 11  x  3 =  33 ==>    3      \u001b[0m,\t\u001b[38;2;0;0;0m 11  x  4 =  44 ==>     4     \u001b[0m,\t\u001b[38;2;0;0;0m 11  x  5 =  55 ==>      5    \u001b[0m,\t\u001b[38;2;0;0;0m 11  x  6 =  66 ==>       6   \u001b[0m,\t\u001b[38;2;0;255;0m 11  x  7 =  77 ==>        7  \u001b[0m,\t\u001b[38;2;0;0;0m 11  x  8 =  88 ==>         8 \u001b[0m,\t\u001b[38;2;0;0;0m 11  x  9 =  99 ==>          9\u001b[0m,\t\u001b[38;2;0;0;0m 11  x 10 = 110 ==> 0         \u001b[0m,\t\u001b[38;2;255;0;0m 11  x 11 = 121 ==>  1        \u001b[0m,\t\u001b[38;2;0;0;0m 11  x 12 = 132 ==>   2       \u001b[0m,\t\n",
            "\u001b[38;2;0;0;0m 12  x  1 =  12 ==>   2       \u001b[0m,\t\u001b[38;2;0;0;0m 12  x  2 =  24 ==>     4     \u001b[0m,\t\u001b[38;2;0;0;255m 12  x  3 =  36 ==>       6   \u001b[0m,\t\u001b[38;2;0;0;0m 12  x  4 =  48 ==>         8 \u001b[0m,\t\u001b[38;2;0;0;0m 12  x  5 =  60 ==> 0         \u001b[0m,\t\u001b[38;2;0;0;255m 12  x  6 =  72 ==>   2       \u001b[0m,\t\u001b[38;2;0;255;0m 12  x  7 =  84 ==>     4     \u001b[0m,\t\u001b[38;2;0;0;0m 12  x  8 =  96 ==>       6   \u001b[0m,\t\u001b[38;2;0;0;255m 12  x  9 = 108 ==>         8 \u001b[0m,\t\u001b[38;2;0;0;0m 12  x 10 = 120 ==> 0         \u001b[0m,\t\u001b[38;2;0;0;0m 12  x 11 = 132 ==>   2       \u001b[0m,\t\u001b[38;2;255;0;0m 12  x 12 = 144 ==>     4     \u001b[0m,\t\n"
          ]
        }
      ],
      "source": [
        "x = 12 # Creating a range of values in the table\n",
        "line = \"\"  # Creating a string to print in a line of the times table\n",
        "r,g,b = 0,0,0\n",
        "print(\"\\033[38;2;255;0;0m Squares are Red\",\" \",\"\\033[38;2;0;0;255m 9x in Blue Adds to 9\",\" \",\" \\033[0m8x, 6x, 4x, 2x is a combination of [0,2,4,6,8]\",\" \",\"\\033[38;2;0;255;0m 3x, 7x in green\")\n",
        "for i in range(1,x+1):  # the first loop\n",
        "  line = \"\"\n",
        "  for j in range(1,x+1):\n",
        "    if i == j: r,g,b = 255,0,0\n",
        "    elif (int((i*j)// 10**2) + int((i*j)// 10**1) + int((i*j)// 10**0)) % 10 == 9 : r,g,b = 0,0,255\n",
        "    elif j==7 or j==3: r,g,b = 0,255,0\n",
        "    #elif (((i*j)// 10**1) + ((i*j)// 10**0)) % 10==6: r,g,b = 0,255,255\n",
        "    else: r,g,b = 0,0,0\n",
        "\n",
        "    k = (int(((i*j)// 10**0)% 10) * \" \")+str(int(((i*j)// 10**0) % 10))\n",
        "    line += \"\\033[38;2;{};{};{}m {:2}  x {:2} = {:3} ==> {:10}\\033[0m\".format(r,g,b,i,j,i*j,k) + \",\\t\"\n",
        "  print(line)"
      ]
    },
    {
      "cell_type": "markdown",
      "metadata": {
        "id": "tcn64Qhp3dWm"
      },
      "source": [
        "# The Square Solved"
      ]
    },
    {
      "cell_type": "code",
      "execution_count": 4,
      "metadata": {
        "colab": {
          "base_uri": "https://localhost:8080/"
        },
        "id": "2TEc2bs_ynx1",
        "outputId": "da25e9a7-04d9-4a07-cfc6-336b203b55bb"
      },
      "outputs": [
        {
          "name": "stdout",
          "output_type": "stream",
          "text": [
            " 1 ** 2 =    1 = 1\n",
            " 2 ** 2 =    4 = 1 + 3\n",
            " 3 ** 2 =    9 = 1 + 3 + 5\n",
            " 4 ** 2 =   16 = 1 + 3 + 5 + 7\n",
            " 5 ** 2 =   25 = 1 + 3 + 5 + 7 + 9\n",
            " 6 ** 2 =   36 = 1 + 3 + 5 + 7 + 9 + 11\n",
            " 7 ** 2 =   49 = 1 + 3 + 5 + 7 + 9 + 11 + 13\n",
            " 8 ** 2 =   64 = 1 + 3 + 5 + 7 + 9 + 11 + 13 + 15\n",
            " 9 ** 2 =   81 = 1 + 3 + 5 + 7 + 9 + 11 + 13 + 15 + 17\n",
            "10 ** 2 =  100 = 1 + 3 + 5 + 7 + 9 + 11 + 13 + 15 + 17 + 19\n",
            "11 ** 2 =  121 = 1 + 3 + 5 + 7 + 9 + 11 + 13 + 15 + 17 + 19 + 21\n",
            "12 ** 2 =  144 = 1 + 3 + 5 + 7 + 9 + 11 + 13 + 15 + 17 + 19 + 21 + 23\n"
          ]
        }
      ],
      "source": [
        "for i in range(1,x+1):\n",
        "  odd = \"1\"\n",
        "  for j in range(1,i): \n",
        "    odd += \" + \" + str(j*2+1)\n",
        "  print(\"{:2}\".format(i),\"** 2 = \",\"{:3}\".format(i**2),\"=\",odd)"
      ]
    },
    {
      "cell_type": "code",
      "execution_count": 6,
      "metadata": {},
      "outputs": [
        {
          "name": "stdout",
          "output_type": "stream",
          "text": [
            "Note: you may need to restart the kernel to use updated packages.\n"
          ]
        },
        {
          "name": "stderr",
          "output_type": "stream",
          "text": [
            "ERROR: Could not find a version that satisfies the requirement matplotlib.pyplot (from versions: none)\n",
            "ERROR: No matching distribution found for matplotlib.pyplot\n",
            "\n",
            "[notice] A new release of pip is available: 23.2.1 -> 24.0\n",
            "[notice] To update, run: python.exe -m pip install --upgrade pip\n"
          ]
        }
      ],
      "source": [
        "pip install matplotlib.pyplot"
      ]
    },
    {
      "cell_type": "code",
      "execution_count": 8,
      "metadata": {},
      "outputs": [
        {
          "name": "stdout",
          "output_type": "stream",
          "text": [
            "Requirement already satisfied: pip in c:\\users\\user\\appdata\\local\\programs\\python\\python311\\lib\\site-packages (23.2.1)\n",
            "Collecting pip\n",
            "  Obtaining dependency information for pip from https://files.pythonhosted.org/packages/8a/6a/19e9fe04fca059ccf770861c7d5721ab4c2aebc539889e97c7977528a53b/pip-24.0-py3-none-any.whl.metadata\n",
            "  Using cached pip-24.0-py3-none-any.whl.metadata (3.6 kB)\n",
            "Using cached pip-24.0-py3-none-any.whl (2.1 MB)\n",
            "Installing collected packages: pip\n",
            "  Attempting uninstall: pip\n",
            "    Found existing installation: pip 23.2.1\n",
            "    Uninstalling pip-23.2.1:\n",
            "      Successfully uninstalled pip-23.2.1\n",
            "Successfully installed pip-24.0\n",
            "Note: you may need to restart the kernel to use updated packages.\n"
          ]
        }
      ],
      "source": [
        "pip install --upgrade pip"
      ]
    },
    {
      "cell_type": "code",
      "execution_count": 9,
      "metadata": {
        "id": "rREL_hjkVTxK"
      },
      "outputs": [
        {
          "data": {
            "image/png": "[encoded data removed]",
            "text/plain": [
              "<Figure size 640x480 with 1 Axes>"
            ]
          },
          "metadata": {},
          "output_type": "display_data"
        }
      ],
      "source": [
        "import matplotlib.pyplot as plt\n",
        "fig, ax = plt.subplots()\n",
        "x=[x for x in range(20)]\n",
        "y=[y**2 for y in range(20)]\n",
        "ax.plot(x,y,color=\"red\",marker=\"x\")\n",
        "plt.show()"
      ]
    },
    {
      "cell_type": "markdown",
      "metadata": {
        "id": "Eupc_efRHQ2c"
      },
      "source": [
        "# The Cube Solved"
      ]
    },
    {
      "cell_type": "code",
      "execution_count": 13,
      "metadata": {
        "id": "lRzt8Qs86B0U"
      },
      "outputs": [],
      "source": [
        "x = 12\n",
        "line1, line2, line3, line4, line5 = \"\",\"\",\"\",\"\",\"\"\n",
        "prev, qqq, rrr, sss, prev_qqq, prev_rrr = 0, 0, 0, 0, 0, 0\n",
        "for i in range(1,x+1):\n",
        "  current = i**3\n",
        "  qqq = current - prev\n",
        "  rrr = qqq - prev_qqq\n",
        "  sss = rrr - prev_rrr \n",
        "  line1 += \"{:1}**3 = {:3}\\t\".format(i,current) \n",
        "  line2 += \"{:10}\\t\".format(current)\n",
        "  if i>1: line3 += \"{:17}\".format(qqq)\n",
        "  if i>1: line4 += \"{:10}\\t\".format(rrr)\n",
        "  if i>2: line5 += \"{:17}\\t\".format(sss)\n",
        "  prev = current\n",
        "  prev_qqq = qqq\n",
        "  prev_rrr = rrr\n"
      ]
    },
    {
      "cell_type": "code",
      "execution_count": 14,
      "metadata": {
        "id": "YeBcvJ_OYiO8"
      },
      "outputs": [
        {
          "name": "stdout",
          "output_type": "stream",
          "text": [
            "1**3 =   1\t2**3 =   8\t3**3 =  27\t4**3 =  64\t5**3 = 125\t6**3 = 216\t7**3 = 343\t8**3 = 512\t9**3 = 729\t10**3 = 1000\t11**3 = 1331\t12**3 = 1728\t\n",
            "         1\t         8\t        27\t        64\t       125\t       216\t       343\t       512\t       729\t      1000\t      1331\t      1728\t\n"
          ]
        }
      ],
      "source": [
        "print(line1)\n",
        "print(line2)\n",
        "#print(line3)\n",
        "#print(line4)\n",
        "#print(line5)"
      ]
    },
    {
      "cell_type": "code",
      "execution_count": 15,
      "metadata": {
        "colab": {
          "base_uri": "https://localhost:8080/",
          "height": 265
        },
        "id": "eBbcuUQLWK5S",
        "outputId": "c3db0a6d-2534-44cc-db73-d906b8e00e26"
      },
      "outputs": [
        {
          "data": {
            "image/png": "[encoded data removed]",
            "text/plain": [
              "<Figure size 640x480 with 1 Axes>"
            ]
          },
          "metadata": {},
          "output_type": "display_data"
        }
      ],
      "source": [
        "import numpy as np\n",
        "import matplotlib.pyplot as plt\n",
        "x = np.arange(0., 5., 0.2)\n",
        "plt.plot(x, x**2, 'bs', x, x**3, 'g^',x, x**4, 'r--')\n",
        "plt.show()"
      ]
    },
    {
      "cell_type": "markdown",
      "metadata": {
        "id": "TvWvlmmHk9vH"
      },
      "source": [
        "# Assignments\n",
        "1.   Plot this line 4x^2 - 12x - 10?"
      ]
    },
    {
      "cell_type": "code",
      "execution_count": null,
      "metadata": {
        "colab": {
          "base_uri": "https://localhost:8080/",
          "height": 265
        },
        "id": "lksbGiBmhBIc",
        "outputId": "283d3fe9-a01f-4cc7-8279-956b1d3faffe"
      },
      "outputs": [],
      "source": [
        "plt.plot(x, 4*(x**2)-12*x-10, 'bs')\n",
        "plt.show()"
      ]
    }
  ],
  "metadata": {
    "colab": {
      "authorship_tag": "ABX9TyM662bb/A4dpyFtXM7Bmqiv",
      "collapsed_sections": [],
      "include_colab_link": true,
      "name": "Lesson3.ipynb",
      "provenance": []
    },
    "kernelspec": {
      "display_name": "Python 3",
      "name": "python3"
    },
    "language_info": {
      "codemirror_mode": {
        "name": "ipython",
        "version": 3
      },
      "file_extension": ".py",
      "mimetype": "text/x-python",
      "name": "python",
      "nbconvert_exporter": "python",
      "pygments_lexer": "ipython3",
      "version": "3.11.5"
    }
  },
  "nbformat": 4,
  "nbformat_minor": 0
}
