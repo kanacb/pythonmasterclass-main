{
  "nbformat": 4,
  "nbformat_minor": 0,
  "metadata": {
    "colab": {
      "name": "Lesson14.ipynb",
      "provenance": [],
      "collapsed_sections": [],
      "authorship_tag": "ABX9TyMKgrK6vKdap4GUY4XgGx+M",
      "include_colab_link": true
    },
    "kernelspec": {
      "name": "python3",
      "display_name": "Python 3"
    },
    "language_info": {
      "name": "python"
    }
  },
  "cells": [
    {
      "cell_type": "markdown",
      "metadata": {
        "id": "view-in-github",
        "colab_type": "text"
      },
      "source": [
        "<a href=\"https://colab.research.google.com/github/kanacb/pythonmasterclass/blob/main/Lesson14.ipynb\" target=\"_parent\"><img src=\"https://colab.research.google.com/assets/colab-badge.svg\" alt=\"Open In Colab\"/></a>"
      ]
    },
    {
      "cell_type": "code",
      "metadata": {
        "colab": {
          "base_uri": "https://localhost:8080/"
        },
        "id": "ft2aaev9qBfJ",
        "outputId": "15c4d397-d243-41c3-98dd-8f9f7a9d8141"
      },
      "source": [
        "!pip install pygame"
      ],
      "execution_count": 1,
      "outputs": [
        {
          "output_type": "stream",
          "name": "stdout",
          "text": [
            "Collecting pygame\n",
            "  Downloading pygame-2.1.0-cp37-cp37m-manylinux_2_17_x86_64.manylinux2014_x86_64.whl (18.3 MB)\n",
            "\u001b[K     |████████████████████████████████| 18.3 MB 1.3 MB/s \n",
            "\u001b[?25hInstalling collected packages: pygame\n",
            "Successfully installed pygame-2.1.0\n"
          ]
        }
      ]
    },
    {
      "cell_type": "code",
      "metadata": {
        "colab": {
          "base_uri": "https://localhost:8080/"
        },
        "id": "prk_VpShqIvB",
        "outputId": "bec54cc0-a103-4c59-ca05-a60ee8b5ee68"
      },
      "source": [
        "import pygame\n",
        "pygame.init()"
      ],
      "execution_count": null,
      "outputs": [
        {
          "output_type": "stream",
          "name": "stdout",
          "text": [
            "pygame 2.0.3 (SDL 2.0.16, Python 3.7.12)\n",
            "Hello from the pygame community. https://www.pygame.org/contribute.html\n"
          ]
        },
        {
          "output_type": "execute_result",
          "data": {
            "text/plain": [
              "(3, 2)"
            ]
          },
          "metadata": {},
          "execution_count": 3
        }
      ]
    },
    {
      "cell_type": "code",
      "metadata": {
        "id": "jti6-_eeRacq",
        "colab": {
          "base_uri": "https://localhost:8080/",
          "height": 231
        },
        "outputId": "0d752550-f6b9-4733-ed3a-d5582ee11a6d"
      },
      "source": [
        "window = pygame.display.set_mode((1200, 400))\n",
        "track = pygame.image.load('track6.png')\n",
        "car = pygame.image.load('tesla.png')\n",
        "car = pygame.transform.scale(car, (30, 60))\n",
        "car_x = 155\n",
        "car_y = 300\n",
        "focal_dis = 25\n",
        "cam_x_offset = 0\n",
        "cam_y_offset = 0\n",
        "direction = 'up'\n",
        "drive = True\n",
        "clock = pygame.time.Clock()\n",
        "while drive:\n",
        "    for event in pygame.event.get():\n",
        "        if event.type == pygame.QUIT:\n",
        "            drive = False\n",
        "    clock.tick(60)\n",
        "    cam_x = car_x + cam_x_offset + 15\n",
        "    cam_y = car_y + cam_y_offset + 15\n",
        "    up_px = window.get_at((cam_x, cam_y - focal_dis))[0]\n",
        "    down_px = window.get_at((cam_x, cam_y + focal_dis))[0]\n",
        "    right_px = window.get_at((cam_x + focal_dis, cam_y))[0]\n",
        "    print(up_px, right_px, down_px)\n",
        "\n",
        "    # change direction (take turn)\n",
        "    if direction == 'up' and up_px != 255 and right_px == 255:\n",
        "        direction = 'right'\n",
        "        cam_x_offset = 30\n",
        "        car = pygame.transform.rotate(car, -90)\n",
        "    elif direction == 'right' and right_px != 255 and down_px == 255:\n",
        "        direction = 'down'\n",
        "        car_x = car_x + 30\n",
        "        cam_x_offset = 0\n",
        "        cam_y_offset = 30\n",
        "        car = pygame.transform.rotate(car, -90)\n",
        "    elif direction == 'down' and down_px != 255 and right_px == 255:\n",
        "        direction = 'right'\n",
        "        car_y = car_y + 30\n",
        "        cam_x_offset = 30\n",
        "        cam_y_offset = 0\n",
        "        car = pygame.transform.rotate(car, 90)\n",
        "    elif direction == 'right' and right_px != 255 and up_px == 255:\n",
        "        direction = 'up'\n",
        "        car_x = car_x + 30\n",
        "        cam_x_offset = 0\n",
        "        car = pygame.transform.rotate(car, 90)\n",
        "    # drive\n",
        "    if direction == 'up' and up_px == 255:\n",
        "        car_y = car_y - 2\n",
        "    elif direction == 'right' and right_px == 255:\n",
        "        car_x = car_x + 2\n",
        "    elif direction == 'down' and down_px == 255:\n",
        "        car_y = car_y + 2\n",
        "    window.blit(track, (0, 0))\n",
        "    window.blit(car, (car_x, car_y))\n",
        "    pygame.draw.circle(window, (0, 255, 0), (cam_x, cam_y), 5, 5)\n",
        "    pygame.display.update()"
      ],
      "execution_count": null,
      "outputs": [
        {
          "output_type": "error",
          "ename": "error",
          "evalue": "ignored",
          "traceback": [
            "\u001b[0;31m---------------------------------------------------------------------------\u001b[0m",
            "\u001b[0;31merror\u001b[0m                                     Traceback (most recent call last)",
            "\u001b[0;32m<ipython-input-5-bf4a2841de6f>\u001b[0m in \u001b[0;36m<module>\u001b[0;34m()\u001b[0m\n\u001b[0;32m----> 1\u001b[0;31m \u001b[0mwindow\u001b[0m \u001b[0;34m=\u001b[0m \u001b[0mpygame\u001b[0m\u001b[0;34m.\u001b[0m\u001b[0mdisplay\u001b[0m\u001b[0;34m.\u001b[0m\u001b[0mset_mode\u001b[0m\u001b[0;34m(\u001b[0m\u001b[0;34m(\u001b[0m\u001b[0;36m1200\u001b[0m\u001b[0;34m,\u001b[0m \u001b[0;36m400\u001b[0m\u001b[0;34m)\u001b[0m\u001b[0;34m)\u001b[0m\u001b[0;34m\u001b[0m\u001b[0;34m\u001b[0m\u001b[0m\n\u001b[0m\u001b[1;32m      2\u001b[0m \u001b[0mtrack\u001b[0m \u001b[0;34m=\u001b[0m \u001b[0mpygame\u001b[0m\u001b[0;34m.\u001b[0m\u001b[0mimage\u001b[0m\u001b[0;34m.\u001b[0m\u001b[0mload\u001b[0m\u001b[0;34m(\u001b[0m\u001b[0;34m'track6.png'\u001b[0m\u001b[0;34m)\u001b[0m\u001b[0;34m\u001b[0m\u001b[0;34m\u001b[0m\u001b[0m\n\u001b[1;32m      3\u001b[0m \u001b[0mcar\u001b[0m \u001b[0;34m=\u001b[0m \u001b[0mpygame\u001b[0m\u001b[0;34m.\u001b[0m\u001b[0mimage\u001b[0m\u001b[0;34m.\u001b[0m\u001b[0mload\u001b[0m\u001b[0;34m(\u001b[0m\u001b[0;34m'tesla.png'\u001b[0m\u001b[0;34m)\u001b[0m\u001b[0;34m\u001b[0m\u001b[0;34m\u001b[0m\u001b[0m\n\u001b[1;32m      4\u001b[0m \u001b[0mcar\u001b[0m \u001b[0;34m=\u001b[0m \u001b[0mpygame\u001b[0m\u001b[0;34m.\u001b[0m\u001b[0mtransform\u001b[0m\u001b[0;34m.\u001b[0m\u001b[0mscale\u001b[0m\u001b[0;34m(\u001b[0m\u001b[0mcar\u001b[0m\u001b[0;34m,\u001b[0m \u001b[0;34m(\u001b[0m\u001b[0;36m30\u001b[0m\u001b[0;34m,\u001b[0m \u001b[0;36m60\u001b[0m\u001b[0;34m)\u001b[0m\u001b[0;34m)\u001b[0m\u001b[0;34m\u001b[0m\u001b[0;34m\u001b[0m\u001b[0m\n\u001b[1;32m      5\u001b[0m \u001b[0mcar_x\u001b[0m \u001b[0;34m=\u001b[0m \u001b[0;36m155\u001b[0m\u001b[0;34m\u001b[0m\u001b[0;34m\u001b[0m\u001b[0m\n",
            "\u001b[0;31merror\u001b[0m: No available video device"
          ]
        }
      ]
    }
  ]
}