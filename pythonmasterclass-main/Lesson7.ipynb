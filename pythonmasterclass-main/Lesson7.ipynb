{
  "nbformat": 4,
  "nbformat_minor": 0,
  "metadata": {
    "colab": {
      "name": "Lesson7.ipynb",
      "provenance": [],
      "collapsed_sections": [],
      "authorship_tag": "ABX9TyOe1olwu7Tp7lzSMSNTY+I/",
      "include_colab_link": true
    },
    "kernelspec": {
      "name": "python3",
      "display_name": "Python 3"
    },
    "language_info": {
      "name": "python"
    }
  },
  "cells": [
    {
      "cell_type": "markdown",
      "metadata": {
        "id": "view-in-github",
        "colab_type": "text"
      },
      "source": [
        "<a href=\"https://colab.research.google.com/github/kanacb/pythonmasterclass/blob/main/Lesson7.ipynb\" target=\"_parent\"><img src=\"https://colab.research.google.com/assets/colab-badge.svg\" alt=\"Open In Colab\"/></a>"
      ]
    },
    {
      "cell_type": "markdown",
      "metadata": {
        "id": "2tc82ySgDSys"
      },
      "source": [
        "## Lesson 7\n",
        "\n",
        "Functions, Modules, Classes and Objects\n",
        "\n",
        "Functions\n",
        "def some_name():\n",
        "\n",
        "Modules: Files Names\n",
        "\n",
        "Classes: Code"
      ]
    },
    {
      "cell_type": "code",
      "metadata": {
        "id": "5wnV4IO-DLqi"
      },
      "source": [
        "text = \"Howe are you?\"\n",
        "\n",
        "def writealine(text):\n",
        "  print(text)\n",
        "\n",
        "writealine(text)\n",
        "\n"
      ],
      "execution_count": null,
      "outputs": []
    },
    {
      "cell_type": "code",
      "metadata": {
        "id": "0D2MjuwzD_7h"
      },
      "source": [
        "text = \"I am good, thank you.\"\n",
        "writealine(text)"
      ],
      "execution_count": null,
      "outputs": []
    },
    {
      "cell_type": "markdown",
      "metadata": {
        "id": "VFspmHbzICNh"
      },
      "source": [
        "# More on Functions\n",
        "pandas"
      ]
    },
    {
      "cell_type": "code",
      "metadata": {
        "colab": {
          "base_uri": "https://localhost:8080/"
        },
        "id": "XEoNMcx5IH_h",
        "outputId": "9a3d9009-c551-4ae9-d36c-9ba2bdd2715a"
      },
      "source": [
        "import pandas as pd\n",
        "print(pd)\n"
      ],
      "execution_count": 13,
      "outputs": [
        {
          "output_type": "stream",
          "name": "stdout",
          "text": [
            "<module 'pandas' from '/usr/local/lib/python3.7/dist-packages/pandas/__init__.py'>\n"
          ]
        }
      ]
    },
    {
      "cell_type": "code",
      "metadata": {
        "colab": {
          "base_uri": "https://localhost:8080/"
        },
        "id": "TX3nhXScIjCK",
        "outputId": "2b419fd1-6839-47d2-ef86-472181c611e4"
      },
      "source": [
        "print(dir())"
      ],
      "execution_count": 16,
      "outputs": [
        {
          "output_type": "stream",
          "name": "stdout",
          "text": [
            "['In', 'Out', '_', '__', '___', '__builtin__', '__builtins__', '__doc__', '__loader__', '__name__', '__package__', '__spec__', '_dh', '_i', '_i1', '_i10', '_i11', '_i12', '_i13', '_i14', '_i15', '_i16', '_i2', '_i3', '_i4', '_i5', '_i6', '_i7', '_i8', '_i9', '_ih', '_ii', '_iii', '_oh', '_sh', 'bmw', 'bmwe90', 'car', 'exit', 'get_ipython', 'pd', 'quit']\n"
          ]
        }
      ]
    },
    {
      "cell_type": "code",
      "metadata": {
        "id": "pHeG6rgIIZfR"
      },
      "source": [
        "print(help(pd))"
      ],
      "execution_count": null,
      "outputs": []
    },
    {
      "cell_type": "markdown",
      "metadata": {
        "id": "IVu750tSEKVZ"
      },
      "source": [
        "# What is a Class\n",
        "\n",
        "Instance = class(arguments)\n",
        "\n",
        "The Instance is the Object"
      ]
    },
    {
      "cell_type": "code",
      "metadata": {
        "id": "aMaYTcL2EJmw"
      },
      "source": [
        "class Wonder:\n",
        "  pass"
      ],
      "execution_count": null,
      "outputs": []
    },
    {
      "cell_type": "markdown",
      "metadata": {
        "id": "5iwfVKLbEck5"
      },
      "source": [
        "# Attibutes\n",
        "\n",
        "```\n",
        ">>> class Wonder:\n",
        "...     name = \"python\" # set an attribute `name` of the class\n",
        "...\n",
        "```\n",
        "\n"
      ]
    },
    {
      "cell_type": "code",
      "metadata": {
        "id": "YwAjlUlKEnmi"
      },
      "source": [
        "person = wonder()\n",
        "print(person.name)"
      ],
      "execution_count": null,
      "outputs": []
    },
    {
      "cell_type": "markdown",
      "metadata": {
        "id": "aqM_BRm5E0To"
      },
      "source": [
        "A Car blueprint can be define in a Car Class\n",
        "\n",
        "\n",
        "1.   Engine\n",
        "2.   Doors\n",
        "3. Lights\n",
        "4. Seats\n",
        "5. Steering\n",
        "6. Windows\n",
        "\n",
        "\n",
        "\n",
        "\n"
      ]
    },
    {
      "cell_type": "code",
      "metadata": {
        "id": "jcH8heavFI64"
      },
      "source": [
        "class car():\n",
        "  engine = \"4 cylinder 4 stroke\"\n",
        "  doors = 4 \n",
        "  Lights = [\"Head\",\"Drive\",\"Spot\",\"Indicators\",\"Turning\",\"Brake\",\"Hazard\"]\n",
        "  ccapacity = 1997\n"
      ],
      "execution_count": 1,
      "outputs": []
    },
    {
      "cell_type": "code",
      "metadata": {
        "colab": {
          "base_uri": "https://localhost:8080/"
        },
        "id": "y5nmYpXBF0BB",
        "outputId": "2700b043-bdee-4ce6-c777-65af562a762d"
      },
      "source": [
        "bmw = car()\n",
        "print(bmw)"
      ],
      "execution_count": 2,
      "outputs": [
        {
          "output_type": "stream",
          "name": "stdout",
          "text": [
            "<__main__.car object at 0x7fc033fcb450>\n"
          ]
        }
      ]
    },
    {
      "cell_type": "code",
      "metadata": {
        "id": "sz7H8J9JF8jx"
      },
      "source": [
        "class car():\n",
        "  name = \"Mercedes E300\"\n",
        "  engine = \"4 cylinder 4 stroke\"\n",
        "  doors = 4 \n",
        "  Lights = [\"Head\",\"Drive\",\"Spot\",\"Indicators\",\"Turning\",\"Brake\",\"Hazard\"]\n",
        "  ccapacity = 1997\n",
        "\n",
        "  def __init__(self, name, cc):\n",
        "    self.name = name\n",
        "    self.ccapacity = cc"
      ],
      "execution_count": 6,
      "outputs": []
    },
    {
      "cell_type": "code",
      "metadata": {
        "colab": {
          "base_uri": "https://localhost:8080/"
        },
        "id": "ZdOXeNeuG2M5",
        "outputId": "524f59f4-c90f-40e3-8fc3-dafcc79a707f"
      },
      "source": [
        "bmwe90 = car(\"BMW 530i\",2997)\n",
        "print(bmwe90.name)\n",
        "print(bmwe90.ccapacity)"
      ],
      "execution_count": 7,
      "outputs": [
        {
          "output_type": "stream",
          "name": "stdout",
          "text": [
            "BMW 530i\n",
            "2997\n"
          ]
        }
      ]
    },
    {
      "cell_type": "markdown",
      "metadata": {
        "id": "qDs_aI0VGKdz"
      },
      "source": [
        "# Assignment\n",
        "\n",
        "\n",
        "\n",
        "1.   Create and Animal Class?\n",
        "2.   Make Cat Object of 3 types of species and with 4 attibutes that is shared among cats?\n",
        "3. Each type must be of different species on creation.\n",
        "4. Print all the cats and the information about the cat.\n",
        "\n"
      ]
    }
  ]
}
