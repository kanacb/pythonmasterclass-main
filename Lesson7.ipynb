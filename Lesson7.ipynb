{
  "cells": [
    {
      "cell_type": "markdown",
      "metadata": {
        "colab_type": "text",
        "id": "view-in-github"
      },
      "source": [
        "<a href=\"https://colab.research.google.com/github/kanacb/pythonmasterclass-main/blob/main/Lesson7.ipynb\" target=\"_parent\"><img src=\"https://colab.research.google.com/assets/colab-badge.svg\" alt=\"Open In Colab\"/></a>"
      ]
    },
    {
      "cell_type": "markdown",
      "metadata": {
        "id": "2tc82ySgDSys"
      },
      "source": [
        "## Lesson 7\n",
        "\n",
        "Functions, Modules, Classes and Objects\n",
        "\n",
        "Functions\n",
        "def some_name():\n",
        "\n",
        "Modules: Files Names\n",
        "\n",
        "Classes: Code\n",
        "\n",
        "Core Concepts of OOP\n",
        "Class: A blueprint for creating objects (a particular data structure). Classes contain methods (functions) and attributes (data).\n",
        "\n",
        "Object: An instance of a class. When a class is defined, no memory is allocated until an object of that class is created.\n",
        "\n",
        "Method: A function defined within a class. Methods operate on the data contained in the class.\n",
        "\n",
        "Inheritance: A mechanism by which one class can inherit attributes and methods from another class. This promotes code reuse.\n",
        "\n",
        "Encapsulation: The bundling of data (attributes) and methods that operate on the data into a single unit, or class. Encapsulation restricts direct access to some of the object's components, which is a way of preventing accidental interference and misuse of the data.\n",
        "\n",
        "Polymorphism: The ability to present the same interface for different underlying forms (data types).\n",
        "\n",
        "Abstraction: The concept of hiding the complex implementation details and showing only the necessary features of the object."
      ]
    },
    {
      "cell_type": "code",
      "execution_count": null,
      "metadata": {
        "id": "5wnV4IO-DLqi"
      },
      "outputs": [],
      "source": [
        "class Animal:\n",
        "    def __init__(self, name, species):\n",
        "        self.name = name  # Attribute\n",
        "        self.species = species  # Attribute\n",
        "\n",
        "    def make_sound(self):  # Method\n",
        "        raise NotImplementedError(\"Subclass must implement abstract method\")\n",
        "\n",
        "class Dog(Animal):  # Inheritance\n",
        "    def __init__(self, name, breed):\n",
        "        super().__init__(name, species='Dog')\n",
        "        self.breed = breed\n",
        "\n",
        "    def make_sound(self):  # Polymorphism\n",
        "        return \"Woof!\"\n",
        "\n",
        "class Cat(Animal):  # Inheritance\n",
        "    def __init__(self, name, color):\n",
        "        super().__init__(name, species='Cat')\n",
        "        self.color = color\n",
        "\n",
        "    def make_sound(self):  # Polymorphism\n",
        "        return \"Meow!\"\n",
        "\n",
        "# Creating objects\n",
        "dog = Dog(name=\"Buddy\", breed=\"Golden Retriever\")\n",
        "cat = Cat(name=\"Whiskers\", color=\"Black\")\n",
        "\n",
        "# Using methods\n",
        "print(f\"{dog.name} says {dog.make_sound()}\")  # Output: Buddy says Woof!\n",
        "print(f\"{cat.name} says {cat.make_sound()}\")  # Output: Whiskers says Meow!\n",
        "\n"
      ]
    },
    {
      "cell_type": "markdown",
      "metadata": {},
      "source": [
        "Explanation\n",
        "Class Definition: class Animal: defines a class named Animal.\n",
        "Constructor: __init__ is a special method called a constructor, used for initializing an object's attributes.\n",
        "Method: make_sound is a method that will be overridden in subclasses.\n",
        "Inheritance: Dog and Cat classes inherit from the Animal class.\n",
        "Polymorphism: Both Dog and Cat have their own implementation of the make_sound method."
      ]
    },
    {
      "cell_type": "code",
      "execution_count": null,
      "metadata": {},
      "outputs": [],
      "source": [
        "class EncapsulatedAnimal:\n",
        "    def __init__(self, name):\n",
        "        self.__name = name  # Private attribute\n",
        "\n",
        "    def get_name(self):\n",
        "        return self.__name\n",
        "\n",
        "    def set_name(self, name):\n",
        "        self.__name = name\n",
        "\n",
        "# Creating an object\n",
        "animal = EncapsulatedAnimal(name=\"Unknown\")\n",
        "print(animal.get_name())  # Accessing private attribute via getter\n",
        "animal.set_name(\"New Name\")\n",
        "print(animal.get_name())  # Accessing private attribute via setter\n"
      ]
    },
    {
      "cell_type": "markdown",
      "metadata": {},
      "source": [
        "Abstraction\n",
        "Abstraction is implemented using abstract classes and methods in Python:"
      ]
    },
    {
      "cell_type": "code",
      "execution_count": null,
      "metadata": {},
      "outputs": [],
      "source": [
        "from abc import ABC, abstractmethod\n",
        "\n",
        "class AbstractAnimal(ABC):\n",
        "    @abstractmethod\n",
        "    def make_sound(self):\n",
        "        pass\n",
        "\n",
        "class Dog(AbstractAnimal):\n",
        "    def make_sound(self):\n",
        "        return \"Woof!\"\n",
        "\n",
        "# Creating an object\n",
        "dog = Dog()\n",
        "print(dog.make_sound())  # Output: Woof!\n"
      ]
    },
    {
      "cell_type": "markdown",
      "metadata": {},
      "source": [
        "In the example above, AbstractAnimal is an abstract base class with an abstract method make_sound. The Dog class provides an implementation for the abstract method."
      ]
    },
    {
      "cell_type": "markdown",
      "metadata": {
        "id": "VFspmHbzICNh"
      },
      "source": [
        "# More on Functions\n",
        "pandas"
      ]
    },
    {
      "cell_type": "code",
      "execution_count": 13,
      "metadata": {
        "colab": {
          "base_uri": "https://localhost:8080/"
        },
        "id": "XEoNMcx5IH_h",
        "outputId": "9a3d9009-c551-4ae9-d36c-9ba2bdd2715a"
      },
      "outputs": [
        {
          "name": "stdout",
          "output_type": "stream",
          "text": [
            "<module 'pandas' from '/usr/local/lib/python3.7/dist-packages/pandas/__init__.py'>\n"
          ]
        }
      ],
      "source": [
        "import pandas as pd\n",
        "print(pd)\n"
      ]
    },
    {
      "cell_type": "code",
      "execution_count": 16,
      "metadata": {
        "colab": {
          "base_uri": "https://localhost:8080/"
        },
        "id": "TX3nhXScIjCK",
        "outputId": "2b419fd1-6839-47d2-ef86-472181c611e4"
      },
      "outputs": [
        {
          "name": "stdout",
          "output_type": "stream",
          "text": [
            "['In', 'Out', '_', '__', '___', '__builtin__', '__builtins__', '__doc__', '__loader__', '__name__', '__package__', '__spec__', '_dh', '_i', '_i1', '_i10', '_i11', '_i12', '_i13', '_i14', '_i15', '_i16', '_i2', '_i3', '_i4', '_i5', '_i6', '_i7', '_i8', '_i9', '_ih', '_ii', '_iii', '_oh', '_sh', 'bmw', 'bmwe90', 'car', 'exit', 'get_ipython', 'pd', 'quit']\n"
          ]
        }
      ],
      "source": [
        "print(dir())"
      ]
    },
    {
      "cell_type": "code",
      "execution_count": null,
      "metadata": {
        "id": "pHeG6rgIIZfR"
      },
      "outputs": [],
      "source": [
        "print(help(pd))"
      ]
    },
    {
      "cell_type": "markdown",
      "metadata": {
        "id": "IVu750tSEKVZ"
      },
      "source": [
        "# What is a Class\n",
        "\n",
        "Instance = class(arguments)\n",
        "\n",
        "The Instance is the Object"
      ]
    },
    {
      "cell_type": "code",
      "execution_count": null,
      "metadata": {
        "id": "aMaYTcL2EJmw"
      },
      "outputs": [],
      "source": [
        "class Wonder:\n",
        "  pass"
      ]
    },
    {
      "cell_type": "markdown",
      "metadata": {
        "id": "5iwfVKLbEck5"
      },
      "source": [
        "# Attibutes\n",
        "\n",
        "```\n",
        ">>> class Wonder:\n",
        "...     name = \"python\" # set an attribute `name` of the class\n",
        "...\n",
        "```\n",
        "\n"
      ]
    },
    {
      "cell_type": "code",
      "execution_count": null,
      "metadata": {
        "id": "YwAjlUlKEnmi"
      },
      "outputs": [],
      "source": [
        "person = wonder()\n",
        "print(person.name)"
      ]
    },
    {
      "cell_type": "markdown",
      "metadata": {
        "id": "aqM_BRm5E0To"
      },
      "source": [
        "A Car blueprint can be define in a Car Class\n",
        "\n",
        "\n",
        "1.   Engine\n",
        "2.   Doors\n",
        "3. Lights\n",
        "4. Seats\n",
        "5. Steering\n",
        "6. Windows\n",
        "\n",
        "\n",
        "\n",
        "\n"
      ]
    },
    {
      "cell_type": "code",
      "execution_count": 1,
      "metadata": {
        "id": "jcH8heavFI64"
      },
      "outputs": [],
      "source": [
        "class car():\n",
        "  engine = \"4 cylinder 4 stroke\"\n",
        "  doors = 4 \n",
        "  Lights = [\"Head\",\"Drive\",\"Spot\",\"Indicators\",\"Turning\",\"Brake\",\"Hazard\"]\n",
        "  ccapacity = 1997\n"
      ]
    },
    {
      "cell_type": "code",
      "execution_count": 2,
      "metadata": {
        "colab": {
          "base_uri": "https://localhost:8080/"
        },
        "id": "y5nmYpXBF0BB",
        "outputId": "2700b043-bdee-4ce6-c777-65af562a762d"
      },
      "outputs": [
        {
          "name": "stdout",
          "output_type": "stream",
          "text": [
            "<__main__.car object at 0x7fc033fcb450>\n"
          ]
        }
      ],
      "source": [
        "bmw = car()\n",
        "print(bmw)"
      ]
    },
    {
      "cell_type": "code",
      "execution_count": 6,
      "metadata": {
        "id": "sz7H8J9JF8jx"
      },
      "outputs": [],
      "source": [
        "class car():\n",
        "  name = \"Mercedes E300\"\n",
        "  engine = \"4 cylinder 4 stroke\"\n",
        "  doors = 4 \n",
        "  Lights = [\"Head\",\"Drive\",\"Spot\",\"Indicators\",\"Turning\",\"Brake\",\"Hazard\"]\n",
        "  ccapacity = 1997\n",
        "\n",
        "  def __init__(self, name, cc):\n",
        "    self.name = name\n",
        "    self.ccapacity = cc"
      ]
    },
    {
      "cell_type": "code",
      "execution_count": 7,
      "metadata": {
        "colab": {
          "base_uri": "https://localhost:8080/"
        },
        "id": "ZdOXeNeuG2M5",
        "outputId": "524f59f4-c90f-40e3-8fc3-dafcc79a707f"
      },
      "outputs": [
        {
          "name": "stdout",
          "output_type": "stream",
          "text": [
            "BMW 530i\n",
            "2997\n"
          ]
        }
      ],
      "source": [
        "bmwe90 = car(\"BMW 530i\",2997)\n",
        "print(bmwe90.name)\n",
        "print(bmwe90.ccapacity)"
      ]
    },
    {
      "cell_type": "markdown",
      "metadata": {},
      "source": []
    },
    {
      "cell_type": "markdown",
      "metadata": {
        "id": "qDs_aI0VGKdz"
      },
      "source": [
        "# Assignment\n",
        "\n",
        "\n",
        "\n",
        "1.   Create and Animal Class?\n",
        "2.   Make Cat Object of 3 types of species and with 4 attibutes that is shared among cats?\n",
        "3. Each type must be of different species on creation.\n",
        "4. Print all the cats and the information about the cat.\n",
        "\n"
      ]
    }
  ],
  "metadata": {
    "colab": {
      "authorship_tag": "ABX9TyOe1olwu7Tp7lzSMSNTY+I/",
      "collapsed_sections": [],
      "include_colab_link": true,
      "name": "Lesson7.ipynb",
      "provenance": []
    },
    "kernelspec": {
      "display_name": "Python 3",
      "name": "python3"
    },
    "language_info": {
      "name": "python"
    }
  },
  "nbformat": 4,
  "nbformat_minor": 0
}
