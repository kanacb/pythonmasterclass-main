{
  "cells": [
    {
      "cell_type": "markdown",
      "metadata": {
        "colab_type": "text",
        "id": "view-in-github"
      },
      "source": [
        "<a href=\"https://colab.research.google.com/github/kanacb/pythonmasterclass-main/blob/main/Lesson13.ipynb\" target=\"_parent\"><img src=\"https://colab.research.google.com/assets/colab-badge.svg\" alt=\"Open In Colab\"/></a>"
      ]
    },
    {
      "cell_type": "markdown",
      "metadata": {
        "id": "ipMa_RZEm2KE"
      },
      "source": [
        "# Lesson 13\n",
        "The objective is to use REGEX to read whats app messages from the whatsapp chat messages. Export the chat messages and using this program to check the REGEX. \n",
        "\n",
        "[Test your regular expression](https://regexr.com/)"
      ]
    },
    {
      "cell_type": "code",
      "execution_count": null,
      "metadata": {
        "id": "vfqpUvQFhCll"
      },
      "outputs": [],
      "source": [
        "!pip install stopwords\n",
        "!pip install emoji"
      ]
    },
    {
      "cell_type": "code",
      "execution_count": 2,
      "metadata": {
        "id": "ypV_z2JOaY6F"
      },
      "outputs": [],
      "source": [
        "import re\n",
        "import regex\n",
        "import pandas as pd\n",
        "import numpy as np\n",
        "import emoji\n",
        "import plotly.express as px\n",
        "from collections import Counter\n",
        "import nltk \n",
        "from nltk.tokenize import word_tokenize\n",
        "from nltk.probability import FreqDist\n",
        "#from nltk.corpus\n",
        "import stopwords\n",
        "from datetime import datetime, timedelta, date\n",
        "import matplotlib.pyplot as plt\n",
        "import seaborn as sns\n",
        "from os import path\n",
        "from PIL import Image\n",
        "from wordcloud import WordCloud, STOPWORDS, ImageColorGenerator\n",
        "%matplotlib inline"
      ]
    },
    {
      "cell_type": "code",
      "execution_count": 3,
      "metadata": {
        "id": "wuk9RfK4ah88"
      },
      "outputs": [],
      "source": [
        "def startsWithDateAndTime(s):\n",
        "    pattern = '^\\d{1,2}/\\d{1,2}/\\d{1,4}, \\d{1,2}:\\d{1,2}\\S [AaPp][Mm] -'\n",
        "    result = re.match(pattern, s)\n",
        "    if result:\n",
        "        return True\n",
        "    return False\n",
        "  \n",
        "def FindAuthor(s):\n",
        "    patterns = [\n",
        "        '([\\w]+):',                        # Nombre\n",
        "        '([\\w]+[\\s]+[\\w]+):',              # Nombre + Apellido\n",
        "        '([\\w]+[\\s]+[\\w]+[\\s]+[\\w]+):',    # Nombre + Segundo Nombre + Apellido\n",
        "        '([\\w]+)[\\u263a-\\U0001f999]+:',    # Nombre con Emoji              \n",
        "    ]\n",
        "    pattern = '^' + '|'.join(patterns)\n",
        "    result = re.match(pattern, s)\n",
        "    if result:\n",
        "        return True\n",
        "    return False\n",
        "\n",
        "def getDataPoint(line):   \n",
        "    splitLine = line.split(' - ') \n",
        "    dateTime = splitLine[0]\n",
        "    message = ' '.join(splitLine[1:])\n",
        "    if FindAuthor(message): \n",
        "        splitMessage = message.split(': ') \n",
        "        author = splitMessage[0] \n",
        "        message = ' '.join(splitMessage[1:])\n",
        "    else:\n",
        "        author = None\n",
        "    return dateTime, author, message"
      ]
    },
    {
      "cell_type": "code",
      "execution_count": 8,
      "metadata": {
        "id": "IovcaTrqik6H"
      },
      "outputs": [],
      "source": [
        "conversationPath = '/content/whatsapp_text.txt'"
      ]
    },
    {
      "cell_type": "code",
      "execution_count": 9,
      "metadata": {
        "id": "eDAdOKkGayO1"
      },
      "outputs": [],
      "source": [
        "parsedData = [] \n",
        "\n",
        "with open(conversationPath, encoding=\"utf-8\") as fp:\n",
        "    fp.readline() \n",
        "    messageBuffer = [] \n",
        "    datetime, author = None, None\n",
        "    while True:\n",
        "        line = fp.readline() \n",
        "        if not line: \n",
        "            break\n",
        "        line = line.strip() \n",
        "        if startsWithDateAndTime(line): \n",
        "            if len(messageBuffer) > 0: \n",
        "                parsedData.append([dateTime, author, ' '.join(messageBuffer)]) \n",
        "            messageBuffer.clear() \n",
        "            dateTime, author, message = getDataPoint(line) \n",
        "            messageBuffer.append(message) \n",
        "        else:\n",
        "            messageBuffer.append(line)\n",
        "\n",
        "chat = pd.DataFrame(parsedData, columns=['DateTime', 'Author', 'Message']) "
      ]
    },
    {
      "cell_type": "code",
      "execution_count": 10,
      "metadata": {
        "colab": {
          "base_uri": "https://localhost:8080/",
          "height": 204
        },
        "id": "mce8P8erjfM1",
        "outputId": "ac3578fe-05cd-4181-e7cb-c89adc4e02ad"
      },
      "outputs": [
        {
          "data": {
            "text/html": [
              "<div>\n",
              "<style scoped>\n",
              "    .dataframe tbody tr th:only-of-type {\n",
              "        vertical-align: middle;\n",
              "    }\n",
              "\n",
              "    .dataframe tbody tr th {\n",
              "        vertical-align: top;\n",
              "    }\n",
              "\n",
              "    .dataframe thead th {\n",
              "        text-align: right;\n",
              "    }\n",
              "</style>\n",
              "<table border=\"1\" class=\"dataframe\">\n",
              "  <thead>\n",
              "    <tr style=\"text-align: right;\">\n",
              "      <th>Author</th>\n",
              "      <th>Cheong Hom Tai</th>\n",
              "      <th>Emily KCOM</th>\n",
              "      <th>Izzati</th>\n",
              "      <th>Kana Sabaratnam</th>\n",
              "    </tr>\n",
              "    <tr>\n",
              "      <th>date</th>\n",
              "      <th></th>\n",
              "      <th></th>\n",
              "      <th></th>\n",
              "      <th></th>\n",
              "    </tr>\n",
              "  </thead>\n",
              "  <tbody>\n",
              "    <tr>\n",
              "      <th>2021-08-23</th>\n",
              "      <td>4.0</td>\n",
              "      <td>3.0</td>\n",
              "      <td>1.0</td>\n",
              "      <td>2.0</td>\n",
              "    </tr>\n",
              "    <tr>\n",
              "      <th>2021-08-25</th>\n",
              "      <td>NaN</td>\n",
              "      <td>4.0</td>\n",
              "      <td>NaN</td>\n",
              "      <td>NaN</td>\n",
              "    </tr>\n",
              "    <tr>\n",
              "      <th>2021-08-30</th>\n",
              "      <td>NaN</td>\n",
              "      <td>NaN</td>\n",
              "      <td>NaN</td>\n",
              "      <td>5.0</td>\n",
              "    </tr>\n",
              "    <tr>\n",
              "      <th>2021-09-14</th>\n",
              "      <td>NaN</td>\n",
              "      <td>5.0</td>\n",
              "      <td>NaN</td>\n",
              "      <td>NaN</td>\n",
              "    </tr>\n",
              "  </tbody>\n",
              "</table>\n",
              "</div>"
            ],
            "text/plain": [
              "Author      Cheong Hom Tai  Emily KCOM  Izzati  Kana Sabaratnam\n",
              "date                                                           \n",
              "2021-08-23             4.0         3.0     1.0              2.0\n",
              "2021-08-25             NaN         4.0     NaN              NaN\n",
              "2021-08-30             NaN         NaN     NaN              5.0\n",
              "2021-09-14             NaN         5.0     NaN              NaN"
            ]
          },
          "execution_count": 10,
          "metadata": {},
          "output_type": "execute_result"
        }
      ],
      "source": [
        "chat[\"DateTime\"] = pd.to_datetime(chat[\"DateTime\"])\n",
        "chat['date'] = [d.date() for d in chat['DateTime']] #column date\n",
        "chat['messages'] = 0\n",
        "chat.index = chat['date']\n",
        "chat = chat.drop(columns=['DateTime','Message','date'])\n",
        "chat = chat.groupby(['date','Author']).count().reset_index()\n",
        "chat = pd.DataFrame(chat)\n",
        "chat.index = chat['date']\n",
        "chat = chat.drop(columns=['date'])\n",
        "chat = chat.pivot(columns=['Author'],values='messages')\n",
        "chat = chat.cumsum()\n",
        "df1 = chat\n",
        "df1 = df1.loc[(df1 != 0).any(1)]\n",
        "df1.index = pd.to_datetime(df1.index)\n",
        "df1"
      ]
    },
    {
      "cell_type": "code",
      "execution_count": 11,
      "metadata": {
        "colab": {
          "base_uri": "https://localhost:8080/"
        },
        "id": "wzzjRtfxaaMq",
        "outputId": "067b422b-e413-4ffa-942c-976cafaf3312"
      },
      "outputs": [
        {
          "data": {
            "text/plain": [
              "Author\n",
              "Kana Sabaratnam    5.0\n",
              "Emily KCOM         5.0\n",
              "Cheong Hom Tai     4.0\n",
              "Izzati             1.0\n",
              "dtype: float64"
            ]
          },
          "execution_count": 11,
          "metadata": {},
          "output_type": "execute_result"
        }
      ],
      "source": [
        "df2 = df1.max()\n",
        "df2.sort_values(ascending=False)"
      ]
    }
  ],
  "metadata": {
    "accelerator": "GPU",
    "colab": {
      "authorship_tag": "ABX9TyPpmB8+sRjAFUlfnlo2+fx4",
      "collapsed_sections": [],
      "include_colab_link": true,
      "mount_file_id": "1oa0KWoTXHHuT_vtq-Kvb6dQqprvzMgg2",
      "name": "Lesson13.ipynb",
      "provenance": []
    },
    "kernelspec": {
      "display_name": "Python 3",
      "name": "python3"
    },
    "language_info": {
      "name": "python"
    }
  },
  "nbformat": 4,
  "nbformat_minor": 0
}
