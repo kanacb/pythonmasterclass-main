{
  "cells": [
    {
      "cell_type": "markdown",
      "metadata": {
        "colab_type": "text",
        "id": "view-in-github"
      },
      "source": [
        "<a href=\"https://colab.research.google.com/github/kanacb/pythonmasterclass-main/blob/main/Lesson1.ipynb\" target=\"_parent\"><img src=\"https://colab.research.google.com/assets/colab-badge.svg\" alt=\"Open In Colab\"/></a>"
      ]
    },
    {
      "attachments": {},
      "cell_type": "markdown",
      "metadata": {
        "id": "D2nMIjFVvP7y"
      },
      "source": [
        "# **Lesson 1**\n",
        "\n",
        "Setting up a Python development environment is a crucial step in getting started with Python programming. A well-configured environment helps you write, test, and run Python code efficiently. Here are the steps to set up a Python environment and reasons why it's essential:\n",
        "\n",
        "**1. Install Python:**\n",
        "   - Visit the official Python website (https://www.python.org/downloads/) to download the latest Python version.\n",
        "   - Choose the appropriate installer for your operating system (Windows, macOS, Linux), and follow the installation instructions.\n",
        "   - Ensure you select the option to add Python to your system's PATH during installation.\n",
        "\n",
        "**2. Use a Virtual Environment:**\n",
        "   - Virtual environments are essential to isolate your Python projects and dependencies, preventing conflicts between different projects. You can create and manage virtual environments using `venv` (built-in in Python 3.3+) or `virtualenv` (a third-party package).\n",
        "\n",
        "   Example using `venv`:\n",
        "   ```bash\n",
        "   python -m venv myenv\n",
        "   source myenv/bin/activate  # On Windows: myenv\\Scripts\\activate\n",
        "   ```\n",
        "\n",
        "**3. Package Manager:**\n",
        "   - Python has a rich ecosystem of libraries and packages. Use a package manager like `pip` (comes with Python) or `conda` (popular in data science) to install, update, and manage third-party packages.\n",
        "\n",
        "   Example using `pip`:\n",
        "   ```bash\n",
        "   pip install package_name\n",
        "   ```\n",
        "\n",
        "**4. Code Editor or IDE:**\n",
        "   - Choose a code editor or integrated development environment (IDE) that suits your needs. Some popular choices include Visual Studio Code, PyCharm, Sublime Text, and Jupyter Notebook.\n",
        "   - Install necessary extensions or plugins for Python support.\n",
        "\n",
        "**5. Version Control (Optional):**\n",
        "   - Consider using a version control system like Git to track changes in your code and collaborate with others. Platforms like GitHub, GitLab, or Bitbucket can host your repositories.\n",
        "\n",
        "**6. Linters and Code Formatters (Optional):**\n",
        "   - Improve code quality by using tools like `flake8`, `pylint`, and `black` for linting and formatting your code.\n",
        "\n",
        "**7. Documentation (Optional):**\n",
        "   - Use documentation tools like Sphinx or tools like Jupyter Notebooks to document your code and projects effectively.\n",
        "\n",
        "**Why It's Essential:**\n",
        "\n",
        "1. **Isolation**: Virtual environments allow you to keep your project-specific dependencies separate, preventing conflicts between different projects.\n",
        "\n",
        "2. **Dependency Management**: Package managers like `pip` make it easy to install and manage third-party libraries and packages your project depends on.\n",
        "\n",
        "3. **Code Editor or IDE**: A good code editor or IDE provides features like code completion, debugging, and project management, enhancing your coding experience.\n",
        "\n",
        "4. **Version Control**: Version control systems help you keep track of changes in your code, collaborate with others, and revert to previous states if needed.\n",
        "\n",
        "5. **Linters and Code Formatters**: These tools help maintain code consistency, improve readability, and catch errors early in the development process.\n",
        "\n",
        "6. **Documentation**: Proper documentation is essential for understanding and maintaining your code, and it can also be helpful for collaboration and sharing your work with others.\n",
        "\n",
        "Setting up a Python development environment ensures that you can work efficiently, collaborate effectively, and maintain the quality of your code throughout your programming journey.\n",
        "\n",
        "The class is designed for Students from any level. The math used in this class is very rudimentary. All the help will be given for those who may have forgotten the details. We will try to keep the examples and assignments fresh for the targetted audience. \n",
        "\n",
        "The course is designed as a lesson by lesson activity to take you from a beginner in programming to an expert in Python language. \n",
        "\n",
        "We choose Python because it is easy to start learning, if your able you can always learn more languages. Every lesson will be followed by an assigment. This is to expand your knowledge gap. As an instructor it is important that we keep expanding your knowledge and let it grow infinitely.\n",
        "\n",
        "## **Setup and Variables**\n",
        "\n",
        "Welcome to the world of Computer Science. Computing is a parrallel world to the real world. This course will introduce from basic to master levels in Python programming. To understand how computers learn, you will learn how to teach a computer so that is can help be more effective and efficient. There are mathematics, graphic art, design patterns, predictions and forecasting that you are going to learn. We will cover a lot of topics through out this course. You are free join any session that interests you the most. This is an open learning platform.\n",
        "\n",
        "**P.S.**\n",
        "\n",
        "All the greats in IT were once a software developer. Thanks to them. With software today, we can do anything. Or Everything has been reduced to using software to control any harware. Mobile Applications, TV, Car and even satelite control systems are using software in some form.\n",
        " "
      ]
    },
    {
      "cell_type": "markdown",
      "metadata": {
        "id": "PFHj-5_Ce1Br"
      },
      "source": [
        "# Setup\n",
        "The Setup is absolutely unnecessary, because you have already reached this page. If you can get here you are already setup. If there is anything else that you require please let me know in the comment section.\n"
      ]
    },
    {
      "cell_type": "markdown",
      "metadata": {
        "id": "yuWh7Js0zPPJ"
      },
      "source": [
        "## What is a Variable?\n",
        "There are 2 types of variables.\n",
        "\n",
        "Scalars and Arrays\n",
        "\n",
        "Scalars are the fundamental building blocks of computer science.\n",
        "\n",
        "A collection of scalars creates an array. \n",
        "\n"
      ]
    },
    {
      "cell_type": "markdown",
      "metadata": {
        "id": "kIId0AMozchZ"
      },
      "source": [
        "## What is a Scalar?"
      ]
    },
    {
      "cell_type": "code",
      "execution_count": null,
      "metadata": {
        "id": "e5YMjvl0s9L6"
      },
      "outputs": [],
      "source": [
        "x = 1"
      ]
    },
    {
      "cell_type": "markdown",
      "metadata": {
        "id": "PRTH2JEHvcbg"
      },
      "source": [
        "### What is Variable Assignment?\n",
        "\n",
        "x is a variable\n",
        "\n",
        "= is an assigment\n",
        "\n",
        "1 is the value ( can be scale or an array)\n",
        "\n",
        "x = 1\n",
        "\n",
        "x = \"Father\"\n",
        "\n",
        "x = \"Brother\"\n",
        "\n",
        "x = false"
      ]
    },
    {
      "cell_type": "markdown",
      "metadata": {
        "id": "TbuSw-mXv_6Y"
      },
      "source": [
        "### How Variable Assignments are created?\n",
        "\n",
        "Lets look at the real world that we live in and the computer world?\n",
        "\n",
        "1.   Physical Science - the real world\n",
        "2.   Computer Science - the virtual world\n",
        "\n",
        "**Computers only know bytes**\n",
        "\n"
      ]
    },
    {
      "cell_type": "markdown",
      "metadata": {
        "id": "4anMO5gas9wg"
      },
      "source": [
        "What are all the kind of variables exists in the physical world?\n",
        "\n",
        "*   Integers => int e.g. 1, 0 , 121232341234, -12332342344,\n",
        "*   Floats => float e.g. 3.142857142857143 ( the pi constant)\n",
        "*   Strings => str e.g. \"some text or string\"\n",
        "*   Scientific => \"{:e}\".format(2970000) = 2.97e+06\n",
        "*   Booleans => bool e.g. true or false"
      ]
    },
    {
      "cell_type": "markdown",
      "metadata": {
        "id": "OVnDL7H7worB"
      },
      "source": [
        "What kind of variables exist in the computer world?\n",
        "\n",
        "Bytes"
      ]
    },
    {
      "cell_type": "markdown",
      "metadata": {
        "id": "gQnqO2U8unv_"
      },
      "source": [
        "Lets investigate what type of variables exist in python?"
      ]
    },
    {
      "cell_type": "code",
      "execution_count": null,
      "metadata": {
        "colab": {
          "base_uri": "https://localhost:8080/"
        },
        "id": "m7KXxgnguso3",
        "outputId": "b6e9ba36-0e5b-4786-c170-20f34d164315"
      },
      "outputs": [
        {
          "data": {
            "text/plain": [
              "int"
            ]
          },
          "execution_count": 26,
          "metadata": {},
          "output_type": "execute_result"
        }
      ],
      "source": [
        "type(x)"
      ]
    },
    {
      "cell_type": "code",
      "execution_count": null,
      "metadata": {
        "id": "T4eZSwTor88-"
      },
      "outputs": [],
      "source": [
        "x = \"1\""
      ]
    },
    {
      "cell_type": "code",
      "execution_count": null,
      "metadata": {
        "colab": {
          "base_uri": "https://localhost:8080/"
        },
        "id": "EFw9C74Jsdg4",
        "outputId": "56b7374a-0bb4-4e34-8232-4429fd3dda20"
      },
      "outputs": [
        {
          "data": {
            "text/plain": [
              "str"
            ]
          },
          "execution_count": 28,
          "metadata": {},
          "output_type": "execute_result"
        }
      ],
      "source": [
        "type(y)"
      ]
    },
    {
      "cell_type": "markdown",
      "metadata": {
        "id": "k1kdSsys82ti"
      },
      "source": [
        "### Scalar Interchange\n",
        "\n",
        "**Explicit Data Type Casting Variables or Conversion**\n",
        "\n",
        "<br>Casting from any type to any type\n",
        "\n",
        "e.g. x = 1 ( x is an integer)\n",
        "\n",
        "y = \"a\" ( y is a string)\n",
        "\n"
      ]
    },
    {
      "cell_type": "markdown",
      "metadata": {
        "id": "KHfnywjn_Znd"
      },
      "source": [
        "Lets have some fun with the computer ..."
      ]
    },
    {
      "cell_type": "code",
      "execution_count": null,
      "metadata": {
        "colab": {
          "base_uri": "https://localhost:8080/",
          "height": 35
        },
        "id": "Oss0-SOW_RNM",
        "outputId": "5b86c4b3-1e13-4c91-c6d0-b9ce7f2f1bbf"
      },
      "outputs": [
        {
          "data": {
            "application/vnd.google.colaboratory.intrinsic+json": {
              "type": "string"
            },
            "text/plain": [
              "'aaa'"
            ]
          },
          "execution_count": 29,
          "metadata": {},
          "output_type": "execute_result"
        }
      ],
      "source": [
        "x = 3\n",
        "y = \"a\"\n",
        "x * y"
      ]
    },
    {
      "cell_type": "code",
      "execution_count": null,
      "metadata": {
        "colab": {
          "base_uri": "https://localhost:8080/",
          "height": 163
        },
        "id": "QM1LhLPA_ijx",
        "outputId": "81d4e7a2-c9cf-43a9-e177-598c60d3fb94"
      },
      "outputs": [
        {
          "ename": "TypeError",
          "evalue": "ignored",
          "output_type": "error",
          "traceback": [
            "\u001b[0;31m---------------------------------------------------------------------------\u001b[0m",
            "\u001b[0;31mTypeError\u001b[0m                                 Traceback (most recent call last)",
            "\u001b[0;32m<ipython-input-30-cd60f97aa77f>\u001b[0m in \u001b[0;36m<module>\u001b[0;34m()\u001b[0m\n\u001b[0;32m----> 1\u001b[0;31m \u001b[0mx\u001b[0m \u001b[0;34m+\u001b[0m \u001b[0my\u001b[0m\u001b[0;34m\u001b[0m\u001b[0;34m\u001b[0m\u001b[0m\n\u001b[0m",
            "\u001b[0;31mTypeError\u001b[0m: unsupported operand type(s) for +: 'int' and 'str'"
          ]
        }
      ],
      "source": [
        "x + y"
      ]
    },
    {
      "cell_type": "code",
      "execution_count": null,
      "metadata": {
        "colab": {
          "base_uri": "https://localhost:8080/",
          "height": 35
        },
        "id": "ITNQIvnX_pjR",
        "outputId": "359b82fe-7ccf-4e20-c2e3-e030b367a5f1"
      },
      "outputs": [
        {
          "data": {
            "application/vnd.google.colaboratory.intrinsic+json": {
              "type": "string"
            },
            "text/plain": [
              "'3a'"
            ]
          },
          "execution_count": 32,
          "metadata": {},
          "output_type": "execute_result"
        }
      ],
      "source": [
        "str(x) + y"
      ]
    },
    {
      "cell_type": "code",
      "execution_count": null,
      "metadata": {
        "colab": {
          "base_uri": "https://localhost:8080/",
          "height": 163
        },
        "id": "bU8NmJhQ_1tE",
        "outputId": "8387c697-7a13-42b8-acf0-22854a3b5bdb"
      },
      "outputs": [
        {
          "ename": "TypeError",
          "evalue": "ignored",
          "output_type": "error",
          "traceback": [
            "\u001b[0;31m---------------------------------------------------------------------------\u001b[0m",
            "\u001b[0;31mTypeError\u001b[0m                                 Traceback (most recent call last)",
            "\u001b[0;32m<ipython-input-33-8fa1f8e8ebdd>\u001b[0m in \u001b[0;36m<module>\u001b[0;34m()\u001b[0m\n\u001b[0;32m----> 1\u001b[0;31m \u001b[0mx\u001b[0m \u001b[0;34m>\u001b[0m \u001b[0my\u001b[0m\u001b[0;34m\u001b[0m\u001b[0;34m\u001b[0m\u001b[0m\n\u001b[0m",
            "\u001b[0;31mTypeError\u001b[0m: '>' not supported between instances of 'int' and 'str'"
          ]
        }
      ],
      "source": [
        "x > y"
      ]
    },
    {
      "cell_type": "code",
      "execution_count": null,
      "metadata": {
        "id": "_EmiuCR9_71Q"
      },
      "outputs": [],
      "source": []
    },
    {
      "cell_type": "markdown",
      "metadata": {
        "id": "uHwjHihBzgXh"
      },
      "source": [
        "## What is an Array?\n",
        "\n",
        "### What kind of arrays are there in Python?\n",
        "\n",
        "1.   List Array\n",
        "2.   Tuple Array\n",
        "3. Dictionary Array\n",
        "4. Set Array\n",
        "5. Byte Arrays\n"
      ]
    },
    {
      "cell_type": "code",
      "execution_count": null,
      "metadata": {
        "id": "PvLY2D4O_dBu"
      },
      "outputs": [],
      "source": [
        "x = [ i for i in range(10)]"
      ]
    },
    {
      "cell_type": "code",
      "execution_count": null,
      "metadata": {
        "id": "z3ZrHBx6_hTN"
      },
      "outputs": [],
      "source": [
        "x"
      ]
    },
    {
      "cell_type": "code",
      "execution_count": null,
      "metadata": {
        "id": "NdEy5ZR8s65C"
      },
      "outputs": [],
      "source": [
        "fruit1 = ('Apple',7800,3.20)\n",
        "fruit2 = ('Orange',4509,2.70)\n",
        "fruits = [fruit1,fruit2]\n",
        "headers = [\"Fruit\",\"Quantity\",\"Price\"]\n",
        "types = { \"citrus\" ,\"appleseed\"}"
      ]
    },
    {
      "cell_type": "code",
      "execution_count": null,
      "metadata": {
        "colab": {
          "base_uri": "https://localhost:8080/"
        },
        "id": "GW_DLjdI_6mJ",
        "outputId": "de07c631-9b04-446b-c408-3bf8aae4c8e6"
      },
      "outputs": [
        {
          "name": "stdout",
          "output_type": "stream",
          "text": [
            "fruit1 <class 'tuple'>\n",
            "fruit2 <class 'tuple'>\n",
            "fruits <class 'list'>\n",
            "headers <class 'list'>\n",
            "types <class 'dict'>\n"
          ]
        }
      ],
      "source": [
        "print(\"fruit1\",type(fruit1))\n",
        "print(\"fruit2\",type(fruit2))\n",
        "print(\"fruits\",type(fruits))\n",
        "print(\"headers\",type(headers))\n",
        "print(\"types\",type(types))"
      ]
    },
    {
      "cell_type": "markdown",
      "metadata": {
        "id": "_9Rmb0QHe-Qt"
      },
      "source": [
        "## Why Dictionary is important?"
      ]
    },
    {
      "cell_type": "code",
      "execution_count": null,
      "metadata": {
        "id": "M6eK5IH6TIcS"
      },
      "outputs": [],
      "source": [
        "data = [dict(zip(headers,row)) for row in fruits]"
      ]
    },
    {
      "cell_type": "code",
      "execution_count": null,
      "metadata": {
        "colab": {
          "base_uri": "https://localhost:8080/"
        },
        "id": "XWfFG_D4TRea",
        "outputId": "7f65bf96-7bc6-4efb-f87b-fb72b36374e8"
      },
      "outputs": [
        {
          "name": "stdout",
          "output_type": "stream",
          "text": [
            "data <class 'list'>\n",
            "[{'Fruit': 'Apple', 'Quantity': 7800, 'Price': 3.2}, {'Fruit': 'Orange', 'Quantity': 4509, 'Price': 2.7}]\n"
          ]
        }
      ],
      "source": [
        "print(\"data\",type(data))\n",
        "print(data)"
      ]
    },
    {
      "cell_type": "markdown",
      "metadata": {
        "id": "r_ovV5YLU9oC"
      },
      "source": [
        "### Why Sets are Unique?\n",
        "\n",
        "Lets try to add a new seed. "
      ]
    },
    {
      "cell_type": "code",
      "execution_count": null,
      "metadata": {
        "id": "13p57xPhVzay"
      },
      "outputs": [],
      "source": [
        "types.add(\"organic\")"
      ]
    },
    {
      "cell_type": "code",
      "execution_count": null,
      "metadata": {
        "colab": {
          "base_uri": "https://localhost:8080/"
        },
        "id": "pZTjNVkIV8MM",
        "outputId": "3a078d88-9ccd-4178-8b11-f622e26b3c0d"
      },
      "outputs": [
        {
          "name": "stdout",
          "output_type": "stream",
          "text": [
            "{'appleseed', 'citrus', 'organic'}\n"
          ]
        }
      ],
      "source": [
        "print(types)"
      ]
    },
    {
      "cell_type": "markdown",
      "metadata": {
        "id": "efpvGV73fKEr"
      },
      "source": [
        "### Lets Test the Sets?"
      ]
    },
    {
      "cell_type": "code",
      "execution_count": null,
      "metadata": {
        "colab": {
          "base_uri": "https://localhost:8080/"
        },
        "id": "NG2hM8XfZ7_V",
        "outputId": "6efd41f8-60ec-4989-888a-26407681080f"
      },
      "outputs": [
        {
          "name": "stdout",
          "output_type": "stream",
          "text": [
            "True\n"
          ]
        }
      ],
      "source": [
        "print('organic' in types)"
      ]
    },
    {
      "cell_type": "markdown",
      "metadata": {
        "id": "ysI2E4ojgNnK"
      },
      "source": [
        "### Everything is a Byte Array"
      ]
    },
    {
      "cell_type": "code",
      "execution_count": null,
      "metadata": {
        "id": "FQRmf4RfgUyu"
      },
      "outputs": [],
      "source": [
        "prime = [2,3,5]\n",
        "byteArray = bytearray(prime)"
      ]
    },
    {
      "cell_type": "code",
      "execution_count": null,
      "metadata": {
        "colab": {
          "base_uri": "https://localhost:8080/"
        },
        "id": "4XYeri33gc6_",
        "outputId": "b6747da2-7b20-4554-896a-3b38fc635ad9"
      },
      "outputs": [
        {
          "name": "stdout",
          "output_type": "stream",
          "text": [
            "bytearray(b'\\x02\\x03\\x05')\n"
          ]
        }
      ],
      "source": [
        "print(byteArray)"
      ]
    },
    {
      "cell_type": "markdown",
      "metadata": {
        "id": "tQzO7ajpFtyv"
      },
      "source": [
        "# Assignment\n",
        "\n",
        "\n",
        "\n",
        "1.   Create a string variable? This is the string in next items.\n",
        "2.   Print the second last to the start of the string?\n",
        "3. Show the length of the string? Use a python function\n",
        "4. Convert the string to an array? Use the **type** to show it is an array\n",
        "\n"
      ]
    }
  ],
  "metadata": {
    "colab": {
      "authorship_tag": "ABX9TyM/uO50Q1skoI53G1Eor34t",
      "collapsed_sections": [],
      "include_colab_link": true,
      "name": "Lesson1.ipynb",
      "provenance": [],
      "toc_visible": true
    },
    "kernelspec": {
      "display_name": "Python 3",
      "name": "python3"
    },
    "language_info": {
      "name": "python"
    }
  },
  "nbformat": 4,
  "nbformat_minor": 0
}
