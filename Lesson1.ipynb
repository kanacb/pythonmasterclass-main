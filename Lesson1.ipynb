{
  "cells": [
    {
      "cell_type": "markdown",
      "metadata": {
        "colab_type": "text",
        "id": "view-in-github"
      },
      "source": [
        "<a href=\"https://colab.research.google.com/github/kanacb/pythonmasterclass-main/blob/main/Lesson1.ipynb\" target=\"_parent\"><img src=\"https://colab.research.google.com/assets/colab-badge.svg\" alt=\"Open In Colab\"/></a>"
      ]
    },
    {
      "cell_type": "markdown",
      "metadata": {
        "id": "PFHj-5_Ce1Br"
      },
      "source": [
        "# Setup\n",
        "The Setup is absolutely unnecessary, because you have already reached this page. If you can get here you are already setup. If there is anything else that you require please let me know in the comment section.\n"
      ]
    },
    {
      "cell_type": "markdown",
      "metadata": {
        "id": "yuWh7Js0zPPJ"
      },
      "source": [
        "## What is a Variable?\n",
        "There are 2 types of variables.\n",
        "\n",
        "Scalars and Arrays\n",
        "\n",
        "Scalars are the fundamental building blocks of computer science.\n",
        "\n",
        "A collection of scalars creates an array. \n",
        "\n"
      ]
    },
    {
      "cell_type": "markdown",
      "metadata": {
        "id": "kIId0AMozchZ"
      },
      "source": [
        "## What is a Scalar?"
      ]
    },
    {
      "cell_type": "code",
      "execution_count": 5,
      "metadata": {
        "id": "e5YMjvl0s9L6"
      },
      "outputs": [],
      "source": [
        "x = \"Hello\""
      ]
    },
    {
      "cell_type": "markdown",
      "metadata": {},
      "source": [
        "Write here."
      ]
    },
    {
      "cell_type": "markdown",
      "metadata": {
        "id": "PRTH2JEHvcbg"
      },
      "source": [
        "### What is Variable Assignment?\n",
        "\n",
        "x is a variable\n",
        "\n",
        "= is an assigment\n",
        "\n",
        "1 is the value ( can be scale or an array)\n",
        "\n",
        "x = 1\n",
        "\n",
        "x = \"Father\"\n",
        "\n",
        "x = \"Brother\"\n",
        "\n",
        "x = false"
      ]
    },
    {
      "cell_type": "markdown",
      "metadata": {
        "id": "TbuSw-mXv_6Y"
      },
      "source": [
        "### How Variable Assignments are created?\n",
        "\n",
        "Lets look at the real world that we live in and the computer world?\n",
        "\n",
        "1.   Physical Science - the real world\n",
        "2.   Computer Science - the virtual world\n",
        "\n",
        "**Computers only know bytes**\n",
        "\n"
      ]
    },
    {
      "cell_type": "markdown",
      "metadata": {
        "id": "4anMO5gas9wg"
      },
      "source": [
        "What are all the kind of variables exists in the physical world?\n",
        "\n",
        "*   Integers => int e.g. 1, 0 , 121232341234, -12332342344,\n",
        "*   Floats => float e.g. 3.142857142857143 ( the pi constant)\n",
        "*   Strings => str e.g. \"some text or string\"\n",
        "*   Scientific => \"{:e}\".format(2970000) = 2.97e+06\n",
        "*   Booleans => bool e.g. true or false"
      ]
    },
    {
      "cell_type": "markdown",
      "metadata": {
        "id": "OVnDL7H7worB"
      },
      "source": [
        "What kind of variables exist in the computer world?\n",
        "\n",
        "Bytes"
      ]
    },
    {
      "cell_type": "markdown",
      "metadata": {
        "id": "gQnqO2U8unv_"
      },
      "source": [
        "Lets investigate what type of variables exist in python?"
      ]
    },
    {
      "cell_type": "code",
      "execution_count": 6,
      "metadata": {
        "colab": {
          "base_uri": "https://localhost:8080/"
        },
        "id": "m7KXxgnguso3",
        "outputId": "b6e9ba36-0e5b-4786-c170-20f34d164315"
      },
      "outputs": [
        {
          "data": {
            "text/plain": [
              "str"
            ]
          },
          "execution_count": 6,
          "metadata": {},
          "output_type": "execute_result"
        }
      ],
      "source": [
        "type(x)"
      ]
    },
    {
      "cell_type": "code",
      "execution_count": null,
      "metadata": {
        "id": "T4eZSwTor88-"
      },
      "outputs": [],
      "source": [
        "x = \"1\""
      ]
    },
    {
      "cell_type": "code",
      "execution_count": null,
      "metadata": {
        "colab": {
          "base_uri": "https://localhost:8080/"
        },
        "id": "EFw9C74Jsdg4",
        "outputId": "56b7374a-0bb4-4e34-8232-4429fd3dda20"
      },
      "outputs": [],
      "source": [
        "type(y)"
      ]
    },
    {
      "cell_type": "markdown",
      "metadata": {
        "id": "k1kdSsys82ti"
      },
      "source": [
        "### Scalar Interchange\n",
        "\n",
        "**Explicit Data Type Casting Variables or Conversion**\n",
        "\n",
        "<br>Casting from any type to any type\n",
        "\n",
        "e.g. x = 1 ( x is an integer)\n",
        "\n",
        "y = \"a\" ( y is a string)\n",
        "\n"
      ]
    },
    {
      "cell_type": "markdown",
      "metadata": {
        "id": "KHfnywjn_Znd"
      },
      "source": [
        "Lets have some fun with the computer ..."
      ]
    },
    {
      "cell_type": "code",
      "execution_count": null,
      "metadata": {
        "colab": {
          "base_uri": "https://localhost:8080/",
          "height": 35
        },
        "id": "Oss0-SOW_RNM",
        "outputId": "5b86c4b3-1e13-4c91-c6d0-b9ce7f2f1bbf"
      },
      "outputs": [],
      "source": [
        "x = 3\n",
        "y = \"a\"\n",
        "x * y"
      ]
    },
    {
      "cell_type": "code",
      "execution_count": null,
      "metadata": {
        "colab": {
          "base_uri": "https://localhost:8080/",
          "height": 163
        },
        "id": "QM1LhLPA_ijx",
        "outputId": "81d4e7a2-c9cf-43a9-e177-598c60d3fb94"
      },
      "outputs": [],
      "source": [
        "x + y"
      ]
    },
    {
      "cell_type": "code",
      "execution_count": null,
      "metadata": {
        "colab": {
          "base_uri": "https://localhost:8080/",
          "height": 35
        },
        "id": "ITNQIvnX_pjR",
        "outputId": "359b82fe-7ccf-4e20-c2e3-e030b367a5f1"
      },
      "outputs": [],
      "source": [
        "str(x) + y"
      ]
    },
    {
      "cell_type": "code",
      "execution_count": null,
      "metadata": {
        "colab": {
          "base_uri": "https://localhost:8080/",
          "height": 163
        },
        "id": "bU8NmJhQ_1tE",
        "outputId": "8387c697-7a13-42b8-acf0-22854a3b5bdb"
      },
      "outputs": [],
      "source": [
        "x > y"
      ]
    },
    {
      "cell_type": "code",
      "execution_count": null,
      "metadata": {
        "id": "_EmiuCR9_71Q"
      },
      "outputs": [],
      "source": []
    },
    {
      "cell_type": "markdown",
      "metadata": {
        "id": "uHwjHihBzgXh"
      },
      "source": [
        "## What is an Array?\n",
        "\n",
        "### What kind of arrays are there in Python?\n",
        "\n",
        "1.   List Array\n",
        "2.   Tuple Array\n",
        "3. Dictionary Array\n",
        "4. Set Array\n",
        "5. Byte Arrays\n"
      ]
    },
    {
      "cell_type": "code",
      "execution_count": null,
      "metadata": {
        "id": "PvLY2D4O_dBu"
      },
      "outputs": [],
      "source": [
        "x = [ i for i in range(10)]"
      ]
    },
    {
      "cell_type": "code",
      "execution_count": null,
      "metadata": {
        "id": "z3ZrHBx6_hTN"
      },
      "outputs": [],
      "source": [
        "x"
      ]
    },
    {
      "cell_type": "code",
      "execution_count": null,
      "metadata": {
        "id": "NdEy5ZR8s65C"
      },
      "outputs": [],
      "source": [
        "fruit1 = ('Apple',7800,3.20)\n",
        "fruit2 = ('Orange',4509,2.70)\n",
        "fruits = [fruit1,fruit2]\n",
        "headers = [\"Fruit\",\"Quantity\",\"Price\"]\n",
        "types = { \"citrus\" ,\"appleseed\"}"
      ]
    },
    {
      "cell_type": "code",
      "execution_count": null,
      "metadata": {
        "colab": {
          "base_uri": "https://localhost:8080/"
        },
        "id": "GW_DLjdI_6mJ",
        "outputId": "de07c631-9b04-446b-c408-3bf8aae4c8e6"
      },
      "outputs": [],
      "source": [
        "print(\"fruit1\",type(fruit1))\n",
        "print(\"fruit2\",type(fruit2))\n",
        "print(\"fruits\",type(fruits))\n",
        "print(\"headers\",type(headers))\n",
        "print(\"types\",type(types))"
      ]
    },
    {
      "cell_type": "markdown",
      "metadata": {
        "id": "_9Rmb0QHe-Qt"
      },
      "source": [
        "## Why Dictionary is important?"
      ]
    },
    {
      "cell_type": "code",
      "execution_count": null,
      "metadata": {
        "id": "M6eK5IH6TIcS"
      },
      "outputs": [],
      "source": [
        "data = [dict(zip(headers,row)) for row in fruits]"
      ]
    },
    {
      "cell_type": "code",
      "execution_count": null,
      "metadata": {
        "colab": {
          "base_uri": "https://localhost:8080/"
        },
        "id": "XWfFG_D4TRea",
        "outputId": "7f65bf96-7bc6-4efb-f87b-fb72b36374e8"
      },
      "outputs": [],
      "source": [
        "print(\"data\",type(data))\n",
        "print(data)"
      ]
    },
    {
      "cell_type": "markdown",
      "metadata": {
        "id": "r_ovV5YLU9oC"
      },
      "source": [
        "### Why Sets are Unique?\n",
        "\n",
        "Lets try to add a new seed. "
      ]
    },
    {
      "cell_type": "code",
      "execution_count": null,
      "metadata": {
        "id": "13p57xPhVzay"
      },
      "outputs": [],
      "source": [
        "types.add(\"organic\")"
      ]
    },
    {
      "cell_type": "code",
      "execution_count": null,
      "metadata": {
        "colab": {
          "base_uri": "https://localhost:8080/"
        },
        "id": "pZTjNVkIV8MM",
        "outputId": "3a078d88-9ccd-4178-8b11-f622e26b3c0d"
      },
      "outputs": [],
      "source": [
        "print(types)"
      ]
    },
    {
      "cell_type": "markdown",
      "metadata": {
        "id": "efpvGV73fKEr"
      },
      "source": [
        "### Lets Test the Sets?"
      ]
    },
    {
      "cell_type": "code",
      "execution_count": null,
      "metadata": {
        "colab": {
          "base_uri": "https://localhost:8080/"
        },
        "id": "NG2hM8XfZ7_V",
        "outputId": "6efd41f8-60ec-4989-888a-26407681080f"
      },
      "outputs": [],
      "source": [
        "print('organic' in types)"
      ]
    },
    {
      "cell_type": "markdown",
      "metadata": {
        "id": "ysI2E4ojgNnK"
      },
      "source": [
        "### Everything is a Byte Array"
      ]
    },
    {
      "cell_type": "code",
      "execution_count": null,
      "metadata": {
        "id": "FQRmf4RfgUyu"
      },
      "outputs": [],
      "source": [
        "prime = [2,3,5]\n",
        "byteArray = bytearray(prime)"
      ]
    },
    {
      "cell_type": "code",
      "execution_count": null,
      "metadata": {
        "colab": {
          "base_uri": "https://localhost:8080/"
        },
        "id": "4XYeri33gc6_",
        "outputId": "b6747da2-7b20-4554-896a-3b38fc635ad9"
      },
      "outputs": [],
      "source": [
        "print(byteArray)"
      ]
    },
    {
      "cell_type": "markdown",
      "metadata": {
        "id": "tQzO7ajpFtyv"
      },
      "source": [
        "# Assignment\n",
        "\n",
        "\n",
        "\n",
        "1.   Create a string variable? This is the string in next items.\n",
        "2.   Print the second last to the start of the string?\n",
        "3. Show the length of the string? Use a python function\n",
        "4. Convert the string to an array? Use the **type** to show it is an array\n",
        "\n"
      ]
    }
  ],
  "metadata": {
    "colab": {
      "authorship_tag": "ABX9TyM/uO50Q1skoI53G1Eor34t",
      "collapsed_sections": [],
      "include_colab_link": true,
      "name": "Lesson1.ipynb",
      "provenance": [],
      "toc_visible": true
    },
    "kernelspec": {
      "display_name": "Python 3",
      "name": "python3"
    },
    "language_info": {
      "codemirror_mode": {
        "name": "ipython",
        "version": 3
      },
      "file_extension": ".py",
      "mimetype": "text/x-python",
      "name": "python",
      "nbconvert_exporter": "python",
      "pygments_lexer": "ipython3",
      "version": "3.11.5"
    }
  },
  "nbformat": 4,
  "nbformat_minor": 0
}
