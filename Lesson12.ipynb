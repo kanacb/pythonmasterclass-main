{
  "cells": [
    {
      "cell_type": "markdown",
      "metadata": {
        "colab_type": "text",
        "id": "view-in-github"
      },
      "source": [
        "<a href=\"https://colab.research.google.com/github/kanacb/pythonmasterclass-main/blob/main/Lesson12.ipynb\" target=\"_parent\"><img src=\"https://colab.research.google.com/assets/colab-badge.svg\" alt=\"Open In Colab\"/></a>"
      ]
    },
    {
      "cell_type": "markdown",
      "metadata": {
        "id": "37ZdwCKkL63E"
      },
      "source": [
        "# Lesson 12\n",
        "Keyboard Controls\n",
        "\n",
        "##use you pc to run this lab\n",
        "\n",
        "```\n",
        "# This is formatted as code\n",
        "pip install pyscreeze --upgrade\n",
        "```\n",
        "\n"
      ]
    },
    {
      "cell_type": "code",
      "execution_count": null,
      "metadata": {
        "id": "iR-OiLVLPA8C"
      },
      "outputs": [],
      "source": [
        "!pip install pyautogui"
      ]
    },
    {
      "cell_type": "code",
      "execution_count": null,
      "metadata": {
        "id": "u5nqzzbXOz5K"
      },
      "outputs": [],
      "source": [
        "import os\n",
        "import pyautogui\n",
        "import time\n",
        "\n",
        "print(os.getcwd())\n",
        "os.startfile('notepad.exe')\n",
        "time.sleep(3)\n",
        "pyautogui.write('Hello There\\n')\n",
        "time.sleep(3)\n",
        "pyautogui.write('Start wrting come content for me, thank.')"
      ]
    },
    {
      "cell_type": "markdown",
      "metadata": {
        "id": "BEjqJXJ8Os1s"
      },
      "source": [
        "Animation using MatplotLib"
      ]
    },
    {
      "cell_type": "code",
      "execution_count": null,
      "metadata": {
        "id": "XimPvY87MImD"
      },
      "outputs": [],
      "source": [
        "from mpl_toolkits.mplot3d import Axes3D\n",
        "import matplotlib.pyplot as plt\n",
        "import pandas as pd\n",
        "import seaborn as sns"
      ]
    },
    {
      "cell_type": "code",
      "execution_count": null,
      "metadata": {
        "id": "b15LtkixMik7"
      },
      "outputs": [],
      "source": [
        "# Get the data (csv file is hosted on the web)\n",
        "url = 'https://github.com/plotly/datasets/blob/master/volcano.csv?raw=true'\n",
        "data = pd.read_csv(url)"
      ]
    },
    {
      "cell_type": "markdown",
      "metadata": {
        "id": "me_bdzGHnDOV"
      },
      "source": [
        "Create a folder called Valcano in the main directory"
      ]
    },
    {
      "cell_type": "code",
      "execution_count": null,
      "metadata": {
        "id": "4Gy1aEnML20Z"
      },
      "outputs": [],
      "source": [
        "# Transform it to a long format\n",
        "df=data.unstack().reset_index()\n",
        "df.columns=[\"X\",\"Y\",\"Z\"]\n",
        "\n",
        "# And transform the old column name in something numeric\n",
        "df['X']=pd.Categorical(df['X'])\n",
        "df['X']=df['X'].cat.codes\n",
        "\n",
        "# We are going to do 20 plots, for 20 different angles\n",
        "for angle in range(70,210,2):\n",
        "\n",
        "# Make the plot\n",
        "    fig = plt.figure()\n",
        "    ax = fig.add_subplot(projection='3d')\n",
        "    ax.plot_trisurf(df['Y'], df['X'], df['Z'], cmap=plt.cm.viridis, linewidth=0.2)\n",
        "\n",
        "    ax.view_init(30,angle)\n",
        "\n",
        "    filename='/content/Volcano/Volcano_step'+str(angle)+'.png'\n",
        "    plt.savefig(filename, dpi=96)\n",
        "    plt.gca()"
      ]
    },
    {
      "cell_type": "markdown",
      "metadata": {
        "id": "iqNKA52YSBOE"
      },
      "source": [
        "## This will create multiple PNG files in the Volcano folder. Now, use ImageMagick to transform them into animation. Open Terminal and navigate to the Volcano folder and enter the following command:\n",
        "\n",
        "\n",
        "```\n",
        "# This is formatted as code\n",
        "magick convert -delay 10 Volcano*.png animated_volcano.gif\n",
        "```\n",
        "\n"
      ]
    }
  ],
  "metadata": {
    "accelerator": "GPU",
    "colab": {
      "authorship_tag": "ABX9TyNmvTE0tpTHfi5BHtBUjLoy",
      "collapsed_sections": [],
      "include_colab_link": true,
      "mount_file_id": "1nEF4zvYo1kMADi4MprV7Yvd0w3izAcZn",
      "name": "Lesson12.ipynb",
      "private_outputs": true,
      "provenance": []
    },
    "kernelspec": {
      "display_name": "Python 3",
      "name": "python3"
    },
    "language_info": {
      "name": "python"
    }
  },
  "nbformat": 4,
  "nbformat_minor": 0
}
