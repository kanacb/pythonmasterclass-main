{
  "cells": [
    {
      "cell_type": "markdown",
      "metadata": {
        "colab_type": "text",
        "id": "view-in-github"
      },
      "source": [
        "<a href=\"https://colab.research.google.com/github/kanacb/pythonmasterclass-main/blob/main/Lesson4.ipynb\" target=\"_parent\"><img src=\"https://colab.research.google.com/assets/colab-badge.svg\" alt=\"Open In Colab\"/></a>"
      ]
    },
    {
      "cell_type": "markdown",
      "metadata": {
        "id": "pvFLmdZhyFCj"
      },
      "source": [
        "# Algebra"
      ]
    },
    {
      "cell_type": "markdown",
      "metadata": {
        "id": "asUEy1lgm6kc"
      },
      "source": [
        "## Linear Algebra - Matrices\n",
        "\n",
        "Learning linear algebra helps us solve real world problems. We begin with a simple 2 variable problem problem and slowing work our way up to much more complex solutions.\n",
        "\n",
        "What is linear algebra.\n",
        "\n",
        "## Solving a 2 Variable problem will require 2 equations\n",
        "1. y = 2x + 5 # is a linear algebraic equation\n",
        "Simplified => y - 2x = 5\n",
        "2. y - 2x = 5\n",
        "\n",
        "With 2 linear equations we can solve for x and y.\n",
        "\n",
        "Lets add another equation:\n",
        "\n",
        "2. y - 3x = 4 \n",
        "\n",
        "These 2 equations can be represented as a Matrix. See below.\n"
      ]
    },
    {
      "cell_type": "markdown",
      "metadata": {
        "id": "e43oh99b0NNi"
      },
      "source": [
        "![Linear Equation.drawio.png](data:image/png;base64,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)"
      ]
    },
    {
      "cell_type": "code",
      "execution_count": null,
      "metadata": {
        "id": "YwrEnSf0mh5k"
      },
      "outputs": [],
      "source": [
        "import numpy as np\n",
        "A = np.array([[1, -2],[1, -3]])\n",
        "B = np.array([5, 4])\n",
        "x = np.linalg.solve(A, B)\n",
        "x"
      ]
    },
    {
      "cell_type": "markdown",
      "metadata": {
        "id": "XJyjO6rV5yTx"
      },
      "source": [
        "Lets check the results.\n",
        "\n",
        "y = 7 and x = 1\n",
        "\n",
        "```\n",
        "x = 1\n",
        "y = 2*x + 5\n",
        "y = 7\n",
        "\n",
        "1. y - 3x = 4\n",
        "2. y - 4 = 3x\n",
        "3. 3x = y - 4\n",
        "4  x = (1/3)*(y-4)\n",
        "\n",
        "x = (1/3)*(y - 4)\n",
        "x = 1 # proven\n",
        "```\n",
        "\n"
      ]
    },
    {
      "cell_type": "code",
      "execution_count": null,
      "metadata": {
        "id": "xpe83vfl54BY"
      },
      "outputs": [],
      "source": [
        "x = 1\n",
        "y = 2*x + 5\n",
        "y"
      ]
    },
    {
      "cell_type": "code",
      "execution_count": null,
      "metadata": {
        "id": "XZRAOW8R6D1J"
      },
      "outputs": [],
      "source": [
        "x = (1/3)*(y - 4)\n",
        "x"
      ]
    },
    {
      "cell_type": "markdown",
      "metadata": {
        "id": "XAkbQAba6i-i"
      },
      "source": [
        "## Lets plot these equations\n",
        "\n",
        "\n",
        "\n",
        "```\n",
        "y = 2x + 5\n",
        "y = 4 + 3x\n",
        "```\n",
        "\n"
      ]
    },
    {
      "cell_type": "code",
      "execution_count": null,
      "metadata": {
        "id": "51mLgoLnuiLz"
      },
      "outputs": [],
      "source": [
        "import matplotlib.pyplot as plt\n",
        "offset = 60\n",
        "xdata, ydata = 1 , 7\n",
        "x = np.arange(-5., 5., 0.5)\n",
        "y1 = 2*x+5\n",
        "y2 = 4+3*x\n",
        "fig, ax = plt.subplots()\n",
        "ax.plot(x, y1, 'bs', x, y2 ,'g^')\n",
        "bbox = dict(boxstyle =\"round\", fc =\"0.8\")\n",
        "arrowprops = dict(arrowstyle = \"->\", connectionstyle = \"angle, angleA = 0, angleB = 90, rad = 10\")\n",
        "ax.annotate('x,y = (%.1f, %.1f)'%(xdata, ydata),\n",
        "            (xdata, ydata), xytext =(-2 * offset, offset),\n",
        "            textcoords ='offset points',\n",
        "            bbox = bbox, arrowprops = arrowprops)\n",
        "ax.axhline(y=0)\n",
        "ax.set_ylabel('y')\n",
        "ax.axvline(x=0)\n",
        "ax.set_xlabel('x')\n",
        "plt.title(\"The solution for both equations\")\n",
        "plt.show()"
      ]
    },
    {
      "cell_type": "markdown",
      "metadata": {
        "id": "K7PjT2gR0QFb"
      },
      "source": [
        "# Linear Systems\n",
        "\n",
        "For example, let solve these 3 equations.\n",
        "\n",
        "\\begin{alignedat}{7}2x&&\\;+\\;&&y&&\\;-\\;&&z&&\\;=\\;&&8\\\\-3x&&\\;-\\;&&y&&\\;+\\;&&2z&&\\;=\\;&&-11\\\\-2x&&\\;+\\;&&y&&\\;+\\;&&2z&&\\;=\\;&&-3\\end{alignedat}\n",
        "\n",
        "be a linear system.\n",
        "\n",
        "\n",
        "**The matrix**\n",
        "\n",
        "\\begin{bmatrix}\\begin{array}{rrr}2&1&-1\\\\-3&-1&2\\\\-2&1&2\\end{array}\\end{bmatrix}\n",
        "and its right member vector\n",
        "\n",
        "\\begin{bmatrix}8\\\\-11\\\\-3\\end{bmatrix}\n",
        "\n",
        "Find the solution?\n",
        "\n",
        "\\begin{bmatrix}x\\\\y\\\\z\\end{bmatrix}\n"
      ]
    },
    {
      "cell_type": "code",
      "execution_count": null,
      "metadata": {
        "id": "Yl5s2_Kg3FPu"
      },
      "outputs": [],
      "source": [
        "A = np.array([[2, 1, -1], [-3, -1, 2], [-2 , 1, 2]])\n",
        "B = np.array([8, -11,-3])\n",
        "sol = np.linalg.solve(A, B)\n",
        "sol"
      ]
    },
    {
      "cell_type": "markdown",
      "metadata": {
        "id": "_G5vTic-4Wb7"
      },
      "source": [
        "\\begin{alignedat}{7}-2x&&\\;+\\;&&8&&\\;+\\;&&z&&\\;=\\;&&y\\\\-3x&&\\;+\\;&&11&&\\;+\\;&&2z&&\\;=\\;&&y\\\\2x&&\\;-\\;&&3&&\\;-\\;&&2z&&\\;=\\;&&y\\end{alignedat}"
      ]
    },
    {
      "cell_type": "code",
      "execution_count": null,
      "metadata": {
        "id": "QsC5TCag4JOC"
      },
      "outputs": [],
      "source": [
        "xsol, ysol, zsol = sol[0],sol[1],sol[2],\n",
        "x = np.arange(-30., 30., 0.2)\n",
        "z = np.arange(-30., 30., 0.2)\n",
        "y1 = -2*x + 8 + z\n",
        "y2 = -3*x + 11 + 2*z\n",
        "y3 = 2*x - 3 - 2*z\n",
        "fig = plt.figure()\n",
        "ax = fig.add_subplot(111, projection='3d')\n",
        "ax.plot(x, y1, z, x, y2, z,x, y3, z)\n",
        "ax.set_xlabel('x')\n",
        "ax.set_ylabel('y')\n",
        "ax.set_zlabel('z')\n",
        "ax.view_init(30,45)\n",
        "ax.text(xsol, ysol, zsol, \"intersection\")\n",
        "plt.show()"
      ]
    },
    {
      "cell_type": "markdown",
      "metadata": {
        "id": "Q-WzyhJp4sqZ"
      },
      "source": [
        "# Non-Linear Systems\n",
        "Find the intersection of the given circle and the given line by substitution.\n",
        "\\begin{alignedat}{7}x^2&&\\;+\\;&&y^2&&\\;=\\;&&5\\\\y&&\\;=\\;&&3x&&\\;-\\;&&5&&\\;\\end{alignedat}"
      ]
    },
    {
      "cell_type": "code",
      "execution_count": null,
      "metadata": {
        "id": "sf5hVkW85V7d"
      },
      "outputs": [],
      "source": [
        "import sympy as sym\n",
        "sym.init_printing()\n",
        "x,y = sym.symbols('x,y')\n",
        "eq1 = sym.Eq(x**2+y**2,5)\n",
        "eq2 = sym.Eq(3*x-5,y)\n",
        "sol = sym.solve([eq1,eq2],(x,y))\n",
        "sol"
      ]
    },
    {
      "cell_type": "markdown",
      "metadata": {
        "id": "qzcneyJG8wz0"
      },
      "source": [
        "Plotting the equations"
      ]
    },
    {
      "cell_type": "code",
      "execution_count": null,
      "metadata": {
        "id": "g6o1iE6yPTHj"
      },
      "outputs": [],
      "source": [
        "import matplotlib.pyplot as plt\n",
        "delta = 0.025\n",
        "xNL, yNL = np.meshgrid(\n",
        "    np.arange(-5, 5, delta),\n",
        "    np.arange(-5, 5, delta)\n",
        ")\n",
        "plt.plot(xNL,3*xNL-5,'bs')\n",
        "plt.contour(xNL,yNL,xNL**2+yNL**2-5,[0])\n",
        "plt.annotate('Point 1', xy=(1, -2), xytext=(3, -5),\n",
        "            arrowprops=dict(facecolor='black', shrink=0.05),\n",
        "            )\n",
        "plt.annotate('Point 2', xy=(2, 1), xytext=(-2, 5),\n",
        "            arrowprops=dict(facecolor='black', shrink=0.05),\n",
        "            )\n",
        "plt.show()"
      ]
    },
    {
      "cell_type": "markdown",
      "metadata": {
        "id": "7SqIJBJJy_GW"
      },
      "source": [
        "# Assignments\n",
        "1. Find the Solution for?\n",
        "\\begin{alignedat}{7}5x&&\\;+\\;&&5y^2&&\\;=\\;&&-1\\\\x^2&&\\;-\\;&&5y&&\\;=\\;&&10\\end{alignedat}\n",
        "2. Plot the equations in the 3D?\n",
        "3. Add an annotation to indicate the intersection?"
      ]
    },
    {
      "cell_type": "code",
      "execution_count": null,
      "metadata": {
        "id": "cu2D4nmqfxWW"
      },
      "outputs": [],
      "source": [
        "import sympy as sym\n",
        "sym.init_printing()\n",
        "x,y = sym.symbols('x,y')\n",
        "eq1 = sym.Eq(5*x+5*y**2,-1)\n",
        "eq2 = sym.Eq(x**2-5*y,10)\n",
        "sol = sym.solve([eq1,eq2],(x,y))\n",
        "sol"
      ]
    }
  ],
  "metadata": {
    "colab": {
      "authorship_tag": "ABX9TyMqrYVK74+1sAgxTd5DDPQl",
      "collapsed_sections": [],
      "include_colab_link": true,
      "name": "Lesson4.ipynb",
      "provenance": []
    },
    "kernelspec": {
      "display_name": "Python 3",
      "name": "python3"
    },
    "language_info": {
      "name": "python"
    }
  },
  "nbformat": 4,
  "nbformat_minor": 0
}
