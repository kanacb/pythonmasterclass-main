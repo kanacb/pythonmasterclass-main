{
  "cells": [
    {
      "cell_type": "markdown",
      "metadata": {
        "colab_type": "text",
        "id": "view-in-github"
      },
      "source": [
        "<a href=\"https://colab.research.google.com/github/kanacb/pythonmasterclass-main/blob/main/Lesson9.ipynb\" target=\"_parent\"><img src=\"https://colab.research.google.com/assets/colab-badge.svg\" alt=\"Open In Colab\"/></a>"
      ]
    },
    {
      "cell_type": "code",
      "execution_count": null,
      "metadata": {
        "id": "HMunnWKWf4ht"
      },
      "outputs": [],
      "source": [
        "#Lesson9\n",
        "#Web Scraping\n",
        "!pip install cloudscraper\n",
        "import cloudscraper\n",
        "from bs4 import BeautifulSoup as b4\n"
      ]
    },
    {
      "cell_type": "code",
      "execution_count": null,
      "metadata": {
        "id": "6LjhktQKiGKD"
      },
      "outputs": [],
      "source": [
        "scraper = cloudscraper.create_scraper(\n",
        "    browser={\n",
        "        'browser': 'chrome',\n",
        "        'platform': 'windows',\n",
        "        'mobile': False\n",
        "    }\n",
        ")  # returns a CloudScraper instance\n",
        "url = 'https://en.wikipedia.org/wiki/IPhone'\n",
        "print(\"status code\",scraper.post(url).status_code)\n"
      ]
    },
    {
      "cell_type": "code",
      "execution_count": null,
      "metadata": {
        "id": "yQPeLqJQbTu5"
      },
      "outputs": [],
      "source": [
        "html = scraper.get(url).text  # => \"<!DOCTYPE html><html><head>...\"\n",
        "page_soup = b4(html, \"html.parser\")\n",
        "print(page_soup)"
      ]
    },
    {
      "cell_type": "code",
      "execution_count": null,
      "metadata": {
        "id": "bL1VM3xjhs-F"
      },
      "outputs": [],
      "source": [
        "tables = page_soup.find_all(\"table\",class_={\"wikitable\"})\n",
        "len(tables)"
      ]
    },
    {
      "cell_type": "code",
      "execution_count": null,
      "metadata": {
        "id": "0QHlFLPxOA6x"
      },
      "outputs": [],
      "source": [
        "data = []\n",
        "for row in tables[0].find_all('tr')[3:-2]:\n",
        "  col = row.find_all(['th','td'])\n",
        "  if len(col)==0: continue\n",
        "  data_row = []\n",
        "  for d in col:\n",
        "    data_row.append(d.text.replace('\\xa0',' ').replace('\\n',''))\n",
        "    #data_row.append(d.text)\n",
        "  data.append(data_row)"
      ]
    },
    {
      "cell_type": "code",
      "execution_count": null,
      "metadata": {
        "id": "dfTp4rRlSueA"
      },
      "outputs": [],
      "source": [
        "print(data)"
      ]
    },
    {
      "cell_type": "code",
      "execution_count": null,
      "metadata": {
        "id": "T_0DCb7cV01E"
      },
      "outputs": [],
      "source": [
        "import pandas as pd"
      ]
    },
    {
      "cell_type": "code",
      "execution_count": null,
      "metadata": {
        "id": "GcHFZ01cV4uU"
      },
      "outputs": [],
      "source": [
        "df = pd.DataFrame(data)\n",
        "df.info()"
      ]
    },
    {
      "cell_type": "code",
      "execution_count": null,
      "metadata": {
        "id": "yqiHCfuLWA3t"
      },
      "outputs": [],
      "source": [
        "df.describe()"
      ]
    },
    {
      "cell_type": "code",
      "execution_count": null,
      "metadata": {
        "id": "qU2YDs5rXaeN"
      },
      "outputs": [],
      "source": [
        "df.head()"
      ]
    },
    {
      "cell_type": "code",
      "execution_count": null,
      "metadata": {
        "id": "gs0-gXsDYLVM"
      },
      "outputs": [],
      "source": [
        "df.to_excel('/content/iphone_data.xlsx')"
      ]
    },
    {
      "cell_type": "markdown",
      "metadata": {
        "id": "rOhhLdj5ZF3D"
      },
      "source": [
        "# Assignment\n",
        "\n",
        "1. Read a web page url = https://en.wikipedia.org/wiki/IPhone\n",
        "2. Extract all the <a> Anchor tags into a list and select on title=\"IOS 15\"\n",
        "3. Show the text in this column.\n",
        "\n",
        "\n"
      ]
    }
  ],
  "metadata": {
    "colab": {
      "authorship_tag": "ABX9TyPPuVFg2Thjz9kTQ+83jEg6",
      "collapsed_sections": [],
      "include_colab_link": true,
      "mount_file_id": "14Z1bK8PEz3NQoD_PWtlxBqMqpOl8LCKz",
      "name": "Lesson9.ipynb",
      "private_outputs": true,
      "provenance": []
    },
    "kernelspec": {
      "display_name": "Python 3",
      "name": "python3"
    },
    "language_info": {
      "name": "python"
    }
  },
  "nbformat": 4,
  "nbformat_minor": 0
}
