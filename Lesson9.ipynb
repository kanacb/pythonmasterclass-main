{
  "nbformat": 4,
  "nbformat_minor": 0,
  "metadata": {
    "colab": {
      "name": "Lesson9.ipynb",
      "private_outputs": true,
      "provenance": [],
      "collapsed_sections": [],
      "mount_file_id": "14Z1bK8PEz3NQoD_PWtlxBqMqpOl8LCKz",
      "authorship_tag": "ABX9TyPPuVFg2Thjz9kTQ+83jEg6",
      "include_colab_link": true
    },
    "kernelspec": {
      "name": "python3",
      "display_name": "Python 3"
    },
    "language_info": {
      "name": "python"
    }
  },
  "cells": [
    {
      "cell_type": "markdown",
      "metadata": {
        "id": "view-in-github",
        "colab_type": "text"
      },
      "source": [
        "<a href=\"https://colab.research.google.com/github/kanacb/pythonmasterclass/blob/main/Lesson9.ipynb\" target=\"_parent\"><img src=\"https://colab.research.google.com/assets/colab-badge.svg\" alt=\"Open In Colab\"/></a>"
      ]
    },
    {
      "cell_type": "code",
      "metadata": {
        "id": "HMunnWKWf4ht"
      },
      "source": [
        "#Lesson9\n",
        "#Web Scraping\n",
        "!pip install cloudscraper\n",
        "import cloudscraper\n",
        "from bs4 import BeautifulSoup as b4\n"
      ],
      "execution_count": null,
      "outputs": []
    },
    {
      "cell_type": "code",
      "metadata": {
        "id": "6LjhktQKiGKD"
      },
      "source": [
        "scraper = cloudscraper.create_scraper(\n",
        "    browser={\n",
        "        'browser': 'chrome',\n",
        "        'platform': 'windows',\n",
        "        'mobile': False\n",
        "    }\n",
        ")  # returns a CloudScraper instance\n",
        "url = 'https://en.wikipedia.org/wiki/IPhone'\n",
        "print(\"status code\",scraper.post(url).status_code)\n"
      ],
      "execution_count": null,
      "outputs": []
    },
    {
      "cell_type": "code",
      "metadata": {
        "id": "yQPeLqJQbTu5"
      },
      "source": [
        "html = scraper.get(url).text  # => \"<!DOCTYPE html><html><head>...\"\n",
        "page_soup = b4(html, \"html.parser\")\n",
        "print(page_soup)"
      ],
      "execution_count": null,
      "outputs": []
    },
    {
      "cell_type": "code",
      "metadata": {
        "id": "bL1VM3xjhs-F"
      },
      "source": [
        "tables = page_soup.find_all(\"table\",class_={\"wikitable\"})\n",
        "len(tables)"
      ],
      "execution_count": null,
      "outputs": []
    },
    {
      "cell_type": "code",
      "metadata": {
        "id": "0QHlFLPxOA6x"
      },
      "source": [
        "data = []\n",
        "for row in tables[0].find_all('tr')[3:-2]:\n",
        "  col = row.find_all(['th','td'])\n",
        "  if len(col)==0: continue\n",
        "  data_row = []\n",
        "  for d in col:\n",
        "    data_row.append(d.text.replace('\\xa0',' ').replace('\\n',''))\n",
        "    #data_row.append(d.text)\n",
        "  data.append(data_row)"
      ],
      "execution_count": null,
      "outputs": []
    },
    {
      "cell_type": "code",
      "metadata": {
        "id": "dfTp4rRlSueA"
      },
      "source": [
        "print(data)"
      ],
      "execution_count": null,
      "outputs": []
    },
    {
      "cell_type": "code",
      "metadata": {
        "id": "T_0DCb7cV01E"
      },
      "source": [
        "import pandas as pd"
      ],
      "execution_count": null,
      "outputs": []
    },
    {
      "cell_type": "code",
      "metadata": {
        "id": "GcHFZ01cV4uU"
      },
      "source": [
        "df = pd.DataFrame(data)\n",
        "df.info()"
      ],
      "execution_count": null,
      "outputs": []
    },
    {
      "cell_type": "code",
      "metadata": {
        "id": "yqiHCfuLWA3t"
      },
      "source": [
        "df.describe()"
      ],
      "execution_count": null,
      "outputs": []
    },
    {
      "cell_type": "code",
      "metadata": {
        "id": "qU2YDs5rXaeN"
      },
      "source": [
        "df.head()"
      ],
      "execution_count": null,
      "outputs": []
    },
    {
      "cell_type": "code",
      "metadata": {
        "id": "gs0-gXsDYLVM"
      },
      "source": [
        "df.to_excel('/content/iphone_data.xlsx')"
      ],
      "execution_count": null,
      "outputs": []
    },
    {
      "cell_type": "markdown",
      "metadata": {
        "id": "rOhhLdj5ZF3D"
      },
      "source": [
        "# Assignment\n",
        "\n",
        "1. Read a web page url = https://en.wikipedia.org/wiki/IPhone\n",
        "2. Extract all the <a> Anchor tags into a list and select on title=\"IOS 15\"\n",
        "3. Show the text in this column.\n",
        "\n",
        "\n"
      ]
    }
  ]
}