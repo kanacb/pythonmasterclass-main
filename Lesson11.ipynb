{
  "cells": [
    {
      "cell_type": "markdown",
      "metadata": {
        "colab_type": "text",
        "id": "view-in-github"
      },
      "source": [
        "<a href=\"https://colab.research.google.com/github/kanacb/pythonmasterclass/blob/main/Lesson11.ipynb\" target=\"_parent\"><img src=\"https://colab.research.google.com/assets/colab-badge.svg\" alt=\"Open In Colab\"/></a>"
      ]
    },
    {
      "cell_type": "markdown",
      "metadata": {
        "id": "MFo2q3zCdPPY"
      },
      "source": [
        "#Lesson 11\n",
        "Machine Learning\n",
        "\n",
        "PyCaret is a Python library for automating various tasks in machine learning, such as data preprocessing, feature selection, model training, hyperparameter tuning, and model evaluation. Here's a simple example of how to use PyCaret for a classification task:\n",
        "\n",
        "First, you need to install PyCaret if you haven't already:\n",
        "\n",
        "```bash\n",
        "pip install pycaret\n",
        "```\n",
        "\n",
        "Now, let's create a simple PyCaret example using the famous Iris dataset for a classification task.\n",
        "\n",
        "```python\n",
        "# Import PyCaret classification module\n",
        "from pycaret.classification import *\n",
        "\n",
        "# Load the Iris dataset\n",
        "from sklearn.datasets import load_iris\n",
        "data = load_iris()\n",
        "df = pd.DataFrame(data.data, columns=data.feature_names)\n",
        "df['target'] = data.target\n",
        "\n",
        "# Initialize the PyCaret setup\n",
        "exp1 = setup(data=df, target='target', session_id=123)\n",
        "\n",
        "# Compare and evaluate multiple machine learning models\n",
        "compare_models()\n",
        "\n",
        "# Create a Decision Tree classifier\n",
        "dt = create_model('dt')\n",
        "\n",
        "# Tune hyperparameters for the Decision Tree model\n",
        "tuned_dt = tune_model(dt)\n",
        "\n",
        "# Evaluate the tuned model\n",
        "evaluate_model(tuned_dt)\n",
        "\n",
        "# Make predictions using the tuned model\n",
        "predictions = predict_model(tuned_dt, data=df)\n",
        "\n",
        "# Save the model for future use\n",
        "save_model(tuned_dt, 'iris_decision_tree_model')\n",
        "\n",
        "# Load the saved model\n",
        "loaded_model = load_model('iris_decision_tree_model')\n",
        "\n",
        "# Use the loaded model for predictions\n",
        "new_data = df.sample(n=5)  # Sample some new data for prediction\n",
        "predictions_new = predict_model(loaded_model, data=new_data)\n",
        "\n",
        "# Print the new data and predictions\n",
        "print(new_data)\n",
        "print(predictions_new)\n",
        "```\n",
        "\n",
        "This code performs the following steps:\n",
        "\n",
        "1. Loads the Iris dataset.\n",
        "2. Sets up the PyCaret environment for classification, specifying the target variable and a session ID for reproducibility.\n",
        "3. Compares and evaluates multiple machine learning models to identify the best-performing one.\n",
        "4. Creates a Decision Tree classifier and tunes its hyperparameters.\n",
        "5. Evaluates the tuned model's performance.\n",
        "6. Makes predictions using the tuned model on the original dataset.\n",
        "7. Saves the tuned model for future use.\n",
        "8. Loads the saved model.\n",
        "9. Uses the loaded model to make predictions on new data (sampled from the original dataset).\n",
        "\n",
        "You can adapt this example to your specific dataset and classification problem. PyCaret simplifies the process of building and evaluating machine learning models, making it easier to experiment and iterate on different models and configurations."
      ]
    }
  ],
  "metadata": {
    "colab": {
      "authorship_tag": "ABX9TyMY0aLUg/ZSScDUQO3mj6Ap",
      "collapsed_sections": [],
      "include_colab_link": true,
      "name": "Lesson11.ipynb",
      "provenance": []
    },
    "kernelspec": {
      "display_name": "Python 3",
      "name": "python3"
    },
    "language_info": {
      "name": "python"
    }
  },
  "nbformat": 4,
  "nbformat_minor": 0
}
